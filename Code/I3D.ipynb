{
  "nbformat": 4,
  "nbformat_minor": 0,
  "metadata": {
    "colab": {
      "name": "last_I3D.ipynb",
      "provenance": [],
      "collapsed_sections": [
        "blFvRDuFxMws",
        "YjqYnmEssJrg",
        "Jj5I1oO60b4c"
      ]
    },
    "kernelspec": {
      "name": "python3",
      "display_name": "Python 3"
    },
    "accelerator": "GPU"
  },
  "cells": [
    {
      "cell_type": "markdown",
      "metadata": {
        "id": "acXkVIZgCuoZ",
        "colab_type": "text"
      },
      "source": [
        "please add this link to drive/My Drive to test\n",
        "https://drive.google.com/drive/folders/1OZYp6W-caHjbITYlodyL-9gvxoMW4t_X?usp=sharing"
      ]
    },
    {
      "cell_type": "markdown",
      "metadata": {
        "id": "Mf8KAt1rN8rG",
        "colab_type": "text"
      },
      "source": [
        "preparing data\n",
        "---"
      ]
    },
    {
      "cell_type": "code",
      "metadata": {
        "id": "FxqVhhta4ukv",
        "colab_type": "code",
        "colab": {
          "base_uri": "https://localhost:8080/",
          "height": 128
        },
        "outputId": "398d55c5-2e5c-4639-9e9a-3df272dd2166"
      },
      "source": [
        "from google.colab import drive\n",
        "drive.mount('/content/drive')"
      ],
      "execution_count": null,
      "outputs": [
        {
          "output_type": "stream",
          "text": [
            "Go to this URL in a browser: https://accounts.google.com/o/oauth2/auth?client_id=947318989803-6bn6qk8qdgf4n4g3pfee6491hc0brc4i.apps.googleusercontent.com&redirect_uri=urn%3aietf%3awg%3aoauth%3a2.0%3aoob&response_type=code&scope=email%20https%3a%2f%2fwww.googleapis.com%2fauth%2fdocs.test%20https%3a%2f%2fwww.googleapis.com%2fauth%2fdrive%20https%3a%2f%2fwww.googleapis.com%2fauth%2fdrive.photos.readonly%20https%3a%2f%2fwww.googleapis.com%2fauth%2fpeopleapi.readonly\n",
            "\n",
            "Enter your authorization code:\n",
            "··········\n",
            "Mounted at /content/drive\n"
          ],
          "name": "stdout"
        }
      ]
    },
    {
      "cell_type": "code",
      "metadata": {
        "id": "gkgYX_iPO6it",
        "colab_type": "code",
        "colab": {}
      },
      "source": [
        "import os\n",
        "import numpy as np\n",
        "import cv2\n",
        "from google.colab.patches import cv2_imshow\n",
        "from tqdm import tqdm\n",
        "\n",
        "%cd /content/\n",
        "!unrar x '/content/drive/My Drive/cv/Training_set.rar' '/content/'\n",
        "!unrar x '/content/drive/My Drive/cv/Testing_set.rar' '/content/'\n",
        "train_path = '/content/Training/'\n",
        "test_path = '/content/Testing_set/'\n",
        "\n",
        "\n",
        "!rm /content/Training/Basketball/v_shooting_24_01.mpg\n",
        "!rm /content/Training/Basketball/v_shooting_16_05.mpg"
      ],
      "execution_count": null,
      "outputs": []
    },
    {
      "cell_type": "code",
      "metadata": {
        "id": "6icJqL17YPCx",
        "colab_type": "code",
        "colab": {}
      },
      "source": [
        "classes = ['Diving', 'Jumping', 'Basketball', 'Tennis', 'Walking']\n"
      ],
      "execution_count": null,
      "outputs": []
    },
    {
      "cell_type": "code",
      "metadata": {
        "id": "wlwXE23f4WjH",
        "colab_type": "code",
        "colab": {}
      },
      "source": [
        "import cv2\n",
        "import os\n",
        "import numpy as np\n",
        "import argparse\n",
        "\n",
        "SMALLEST_DIM = 256\n",
        "IMAGE_CROP_SIZE = 224\n",
        "FRAME_RATE = 25\n",
        "\n",
        "\n",
        "# sample frames at 25 frames per second\n",
        "def sample_video(video_path, path_output):\n",
        "    # for filename in os.listdir(video_path):\n",
        "    if video_path.endswith((\".mp4\", \".avi\", \".mpg\")):\n",
        "        # filename = video_path + filename\n",
        "        os.system(\"ffmpeg -r {1} -i {0} -q:v 2 {2}/frame_%05d.jpg\".format(video_path, FRAME_RATE,\n",
        "                                                                          path_output))\n",
        "    else:\n",
        "        raise ValueError(\"Video path is not the name of video file (.mp4 or .avi)\")\n",
        "\n",
        "\n",
        "# the videos are resized preserving aspect ratio so that the smallest dimension is 256 pixels, with bilinear interpolation\n",
        "def resize(img):\n",
        "    # print('Original Dimensions : ', img.shape)\n",
        "\n",
        "    original_width = int(img.shape[1])\n",
        "    original_height = int(img.shape[0])\n",
        "\n",
        "    aspect_ratio = original_width / original_height\n",
        "\n",
        "    if original_height < original_width:\n",
        "        new_height = SMALLEST_DIM\n",
        "        new_width = int(new_height * aspect_ratio)\n",
        "    else:\n",
        "        new_width = SMALLEST_DIM\n",
        "        new_height = int(original_width / aspect_ratio)\n",
        "\n",
        "    dim = (new_width, new_height)\n",
        "    # resize image\n",
        "    resized = cv2.resize(img, dim, interpolation=cv2.INTER_LINEAR)\n",
        "    # print('Resized Dimensions : ', resized.shape)\n",
        "\n",
        "    return resized\n",
        "\n",
        "\n",
        "def crop_center(img, new_size):\n",
        "    y, x, c = img.shape\n",
        "    (cropx, cropy) = new_size\n",
        "    startx = x // 2 - (cropx // 2)\n",
        "    starty = y // 2 - (cropy // 2)\n",
        "    return img[starty:starty + cropy, startx:startx + cropx]\n",
        "\n",
        "\n",
        "def rescale_pixel_values(img):\n",
        "    # print('Data Type: %s' % img.dtype)\n",
        "    # print('Min: %.3f, Max: %.3f' % (img.min(), img.max()))\n",
        "    img = img.astype('float32')\n",
        "    # normalize to the range 0:1\n",
        "    # img /= 255.0\n",
        "    # normalize to the range -1:1\n",
        "    img = (img / 255.0) * 2 - 1\n",
        "    # confirm the normalization\n",
        "    # print('Min: %.3f, Max: %.3f' % (img.min(), img.max()))\n",
        "    return img\n",
        "\n",
        "\n",
        "# The provided .npy file thus has shape (1, num_frames, 224, 224, 3) for RGB, corresponding to a batch size of 1\n",
        "def run_rgb(sorted_list_frames):\n",
        "    result = np.zeros((1, IMAGE_CROP_SIZE, IMAGE_CROP_SIZE, 3))\n",
        "    for full_file_path in sorted_list_frames:\n",
        "        img = cv2.imread(full_file_path, cv2.IMREAD_UNCHANGED)\n",
        "        \n",
        "        img = pre_process_rgb(img)\n",
        "        new_img = np.reshape(img, (1, IMAGE_CROP_SIZE, IMAGE_CROP_SIZE, 3))\n",
        "        result = np.append(result, new_img, axis=0)\n",
        "\n",
        "    result = result[1:, :, :, :]\n",
        "    result = np.expand_dims(result, axis=0)\n",
        "    return result\n",
        "\n",
        "\n",
        "def pre_process_rgb(img):\n",
        "    resized = resize(img)\n",
        "    img_cropped = crop_center(resized, (IMAGE_CROP_SIZE, IMAGE_CROP_SIZE))\n",
        "    img = rescale_pixel_values(img_cropped)\n",
        "    return img\n",
        "\n",
        "\n",
        "def read_frames(video_path):\n",
        "    list_frames = []\n",
        "    for file in os.listdir(video_path):\n",
        "        if file.endswith(\".jpg\"):\n",
        "            full_file_path = video_path + file\n",
        "            list_frames.append(full_file_path)\n",
        "    sorted_list_frames = sorted(list_frames)\n",
        "    return sorted_list_frames\n",
        "\n",
        "\n",
        "def run_flow(sorted_list_frames):\n",
        "    sorted_list_img = []\n",
        "    for frame in sorted_list_frames:\n",
        "        img = cv2.imread(frame, cv2.IMREAD_UNCHANGED)\n",
        "        img_gray = cv2.cvtColor(img, cv2.COLOR_BGR2GRAY)\n",
        "        sorted_list_img.append(img_gray)\n",
        "\n",
        "    result = np.zeros((1, IMAGE_CROP_SIZE, IMAGE_CROP_SIZE, 2))\n",
        "    prev = sorted_list_img[0]\n",
        "    for curr in sorted_list_img[1:]:\n",
        "        flow = compute_optical_flow(prev, curr)\n",
        "        flow = pre_process_flow(flow)\n",
        "        prev = curr\n",
        "        result = np.append(result, flow, axis=0)\n",
        "\n",
        "    result = result[1:, :, :, :]\n",
        "    result = np.expand_dims(result, axis=0)\n",
        "    return result\n",
        "\n",
        "\n",
        "def pre_process_flow(flow_frame):\n",
        "    resized = resize(flow_frame)\n",
        "    img_cropped = crop_center(resized, (IMAGE_CROP_SIZE, IMAGE_CROP_SIZE))\n",
        "    new_img = np.reshape(img_cropped, (1, IMAGE_CROP_SIZE, IMAGE_CROP_SIZE, 2))\n",
        "    return new_img\n",
        "\n",
        "\n",
        "#  Pixel values are truncated to the range [-20, 20], then rescaled between -1 and 1\n",
        "def compute_optical_flow(prev, curr):\n",
        "    flow = cv2.calcOpticalFlowFarneback(prev, curr, None, 0.5, 3, 15, 3, 5, 1.1, 0)\n",
        "    flow_frame = np.clip(flow, -20, 20)\n",
        "    flow_frame = flow_frame / 20.0\n",
        "    return flow_frame"
      ],
      "execution_count": null,
      "outputs": []
    },
    {
      "cell_type": "markdown",
      "metadata": {
        "id": "C_O0O6v1A1jq",
        "colab_type": "text"
      },
      "source": [
        "RGB\n",
        "---"
      ]
    },
    {
      "cell_type": "code",
      "metadata": {
        "id": "DUKh54yBTpIh",
        "colab_type": "code",
        "colab": {}
      },
      "source": [
        "def extract_rgb(path, no_of_frames):\n",
        "    \n",
        "    #print(path)\n",
        "    video_frames = []\n",
        "    cap = cv2.VideoCapture(path);\n",
        "    \n",
        "    fps = int(cap.get(cv2.CAP_PROP_FPS)) #all 29.97002997002997\n",
        "    frame_count = int(cap.get(cv2.CAP_PROP_FRAME_COUNT))\n",
        "    h = w = 256\n",
        "    #print(frame_count)\n",
        "    \n",
        "    end = frame_count-(frame_count%no_of_frames)\n",
        "    stride = int(np.ceil(frame_count/no_of_frames))\n",
        "    \n",
        "    if stride == 0:\n",
        "        stride = 1    \n",
        "    frames_taken = []\n",
        "    \n",
        "    i = 0\n",
        "    j = 0\n",
        "    while i < no_of_frames:\n",
        "        for frame_no in range(j, frame_count, stride):\n",
        "            if i >= no_of_frames:\n",
        "                break\n",
        "            frames_taken.append(frame_no)\n",
        "            i+=1\n",
        "        j+=1\n",
        "\n",
        "    #frames_taken.sort()\n",
        "    #print(frames_taken)\n",
        "    #print(len(frames_taken))\n",
        "\n",
        "    result = np.zeros((1, IMAGE_CROP_SIZE, IMAGE_CROP_SIZE, 3))\n",
        "    for frame_no in frames_taken:\n",
        "        \n",
        "        cap.set(cv2.CAP_PROP_POS_FRAMES, frame_no)\n",
        "        ret, frame = cap.read()\n",
        "            \n",
        "        img = pre_process_rgb(frame)\n",
        "        new_img = np.reshape(img, (1, IMAGE_CROP_SIZE, IMAGE_CROP_SIZE, 3))\n",
        "        result = np.append(result, new_img, axis=0)\n",
        "    \n",
        "    result = result[1:, :, :, :]\n",
        "    result = np.expand_dims(result, axis=0)\n",
        "    #print(result.shape)\n",
        "    return result\n"
      ],
      "execution_count": null,
      "outputs": []
    },
    {
      "cell_type": "code",
      "metadata": {
        "id": "wyoY1U-LA1To",
        "colab_type": "code",
        "colab": {}
      },
      "source": [
        "#extract_rgb(train_path+'Basketball'+'/'+'v_shooting_24_01.mpg', 125)\n",
        "#extract_rgb(train_path+'Basketball'+'/'+'v_shooting_16_05.mpg', 125)\n",
        "\n",
        "train_paths = []\n",
        "for folder in os.listdir(train_path):\n",
        "    for video in os.listdir(train_path+folder):\n",
        "        #extract_rgb(train_path+folder+'/'+video, 125)\n",
        "        train_paths.append([train_path+folder+'/'+video, classes.index(folder)])\n",
        "        "
      ],
      "execution_count": null,
      "outputs": []
    },
    {
      "cell_type": "code",
      "metadata": {
        "id": "O3e9SLC6DKAX",
        "colab_type": "code",
        "colab": {
          "base_uri": "https://localhost:8080/",
          "height": 74
        },
        "outputId": "29be73dc-c8fe-499e-99f3-08a3f324706f"
      },
      "source": [
        "print(train_paths)\n",
        "print(len(train_paths))\n",
        "global train_index\n",
        "train_index = 0"
      ],
      "execution_count": null,
      "outputs": [
        {
          "output_type": "stream",
          "text": [
            "[['/content/Training/Basketball/v_shooting_20_03.mpg', 2], ['/content/Training/Basketball/v_shooting_18_03.mpg', 2], ['/content/Training/Basketball/v_shooting_06_04.mpg', 2], ['/content/Training/Basketball/v_shooting_16_07.mpg', 2], ['/content/Training/Basketball/v_shooting_03_01.mpg', 2], ['/content/Training/Basketball/v_shooting_06_02.mpg', 2], ['/content/Training/Basketball/v_shooting_18_02.mpg', 2], ['/content/Training/Basketball/v_shooting_10_03.mpg', 2], ['/content/Training/Basketball/v_shooting_19_06.mpg', 2], ['/content/Training/Basketball/v_shooting_11_02.mpg', 2], ['/content/Training/Basketball/v_shooting_19_02.mpg', 2], ['/content/Training/Basketball/v_shooting_04_02.mpg', 2], ['/content/Training/Basketball/v_shooting_01_04.mpg', 2], ['/content/Training/Basketball/v_shooting_02_01.mpg', 2], ['/content/Training/Basketball/v_shooting_10_02.mpg', 2], ['/content/Training/Basketball/v_shooting_13_04.mpg', 2], ['/content/Training/Basketball/v_shooting_16_03.mpg', 2], ['/content/Training/Basketball/v_shooting_01_01.mpg', 2], ['/content/Training/Basketball/v_shooting_05_01.mpg', 2], ['/content/Training/Basketball/v_shooting_15_06.mpg', 2], ['/content/Training/Basketball/v_shooting_11_05.mpg', 2], ['/content/Training/Basketball/v_shooting_01_03.mpg', 2], ['/content/Training/Basketball/v_shooting_11_03.mpg', 2], ['/content/Training/Basketball/v_shooting_19_03.mpg', 2], ['/content/Training/Basketball/v_shooting_15_05.mpg', 2], ['/content/Training/Basketball/v_shooting_06_01.mpg', 2], ['/content/Training/Basketball/v_shooting_19_08.mpg', 2], ['/content/Training/Basketball/v_shooting_09_03.mpg', 2], ['/content/Training/Basketball/v_shooting_02_02.mpg', 2], ['/content/Training/Basketball/v_shooting_16_06.mpg', 2], ['/content/Training/Basketball/v_shooting_18_04.mpg', 2], ['/content/Training/Basketball/v_shooting_09_01.mpg', 2], ['/content/Training/Basketball/v_shooting_24_02.mpg', 2], ['/content/Training/Basketball/v_shooting_02_03.mpg', 2], ['/content/Training/Basketball/v_shooting_07_03.mpg', 2], ['/content/Training/Basketball/v_shooting_14_02.mpg', 2], ['/content/Training/Basketball/v_shooting_19_05.mpg', 2], ['/content/Training/Basketball/v_shooting_19_04.mpg', 2], ['/content/Training/Basketball/v_shooting_08_03.mpg', 2], ['/content/Training/Basketball/v_shooting_10_01.mpg', 2], ['/content/Training/Basketball/v_shooting_03_06.mpg', 2], ['/content/Training/Basketball/v_shooting_14_01.mpg', 2], ['/content/Training/Basketball/v_shooting_01_05.mpg', 2], ['/content/Training/Basketball/v_shooting_06_03.mpg', 2], ['/content/Training/Basketball/v_shooting_13_02.mpg', 2], ['/content/Training/Basketball/v_shooting_02_05.mpg', 2], ['/content/Training/Basketball/v_shooting_11_04.mpg', 2], ['/content/Training/Basketball/v_shooting_20_02.mpg', 2], ['/content/Training/Basketball/v_shooting_02_06.mpg', 2], ['/content/Training/Basketball/v_shooting_05_02.mpg', 2], ['/content/Training/Basketball/v_shooting_14_03.mpg', 2], ['/content/Training/Basketball/v_shooting_07_02.mpg', 2], ['/content/Training/Basketball/v_shooting_09_02.mpg', 2], ['/content/Training/Basketball/v_shooting_20_04.mpg', 2], ['/content/Training/Basketball/v_shooting_20_01.mpg', 2], ['/content/Training/Basketball/v_shooting_18_05.mpg', 2], ['/content/Training/Basketball/v_shooting_03_04.mpg', 2], ['/content/Training/Basketball/v_shooting_08_02.mpg', 2], ['/content/Training/Basketball/v_shooting_20_06.mpg', 2], ['/content/Training/Basketball/v_shooting_03_03.mpg', 2], ['/content/Training/Basketball/v_shooting_02_04.mpg', 2], ['/content/Training/Basketball/v_shooting_03_05.mpg', 2], ['/content/Training/Basketball/v_shooting_16_02.mpg', 2], ['/content/Training/Basketball/v_shooting_13_01.mpg', 2], ['/content/Training/Basketball/v_shooting_01_02.mpg', 2], ['/content/Training/Basketball/v_shooting_19_07.mpg', 2], ['/content/Training/Basketball/v_shooting_05_04.mpg', 2], ['/content/Training/Basketball/v_shooting_11_01.mpg', 2], ['/content/Training/Basketball/v_shooting_18_01.mpg', 2], ['/content/Training/Basketball/v_shooting_16_04.mpg', 2], ['/content/Training/Basketball/v_shooting_15_07.mpg', 2], ['/content/Training/Basketball/v_shooting_19_01.mpg', 2], ['/content/Training/Basketball/v_shooting_07_01.mpg', 2], ['/content/Training/Basketball/v_shooting_24_03.mpg', 2], ['/content/Training/Basketball/v_shooting_10_04.mpg', 2], ['/content/Training/Basketball/v_shooting_04_03.mpg', 2], ['/content/Training/Basketball/v_shooting_04_01.mpg', 2], ['/content/Training/Basketball/v_shooting_13_03.mpg', 2], ['/content/Training/Basketball/v_shooting_03_02.mpg', 2], ['/content/Training/Basketball/v_shooting_16_01.mpg', 2], ['/content/Training/Basketball/v_shooting_20_07.mpg', 2], ['/content/Training/Basketball/v_shooting_08_04.mpg', 2], ['/content/Training/Basketball/v_shooting_04_04.mpg', 2], ['/content/Training/Basketball/v_shooting_20_05.mpg', 2], ['/content/Training/Basketball/v_shooting_24_04.mpg', 2], ['/content/Training/Basketball/v_shooting_05_03.mpg', 2], ['/content/Training/Basketball/v_shooting_10_05.mpg', 2], ['/content/Training/Walking/v_walk_dog_05_04.mpg', 4], ['/content/Training/Walking/v_walk_dog_04_05.mpg', 4], ['/content/Training/Walking/v_walk_dog_20_04.mpg', 4], ['/content/Training/Walking/v_walk_dog_23_01.mpg', 4], ['/content/Training/Walking/v_walk_dog_23_03.mpg', 4], ['/content/Training/Walking/v_walk_dog_02_03.mpg', 4], ['/content/Training/Walking/v_walk_dog_20_03.mpg', 4], ['/content/Training/Walking/v_walk_dog_24_02.mpg', 4], ['/content/Training/Walking/v_walk_dog_19_04.mpg', 4], ['/content/Training/Walking/v_walk_dog_01_04.mpg', 4], ['/content/Training/Walking/v_walk_dog_21_02.mpg', 4], ['/content/Training/Walking/v_walk_dog_03_04.mpg', 4], ['/content/Training/Walking/v_walk_dog_17_03.mpg', 4], ['/content/Training/Walking/v_walk_dog_24_01.mpg', 4], ['/content/Training/Walking/v_walk_dog_02_02.mpg', 4], ['/content/Training/Walking/v_walk_dog_08_05.mpg', 4], ['/content/Training/Walking/v_walk_dog_25_04.mpg', 4], ['/content/Training/Walking/v_walk_dog_20_07.mpg', 4], ['/content/Training/Walking/v_walk_dog_08_02.mpg', 4], ['/content/Training/Walking/v_walk_dog_19_03.mpg', 4], ['/content/Training/Walking/v_walk_dog_20_06.mpg', 4], ['/content/Training/Walking/v_walk_dog_25_03.mpg', 4], ['/content/Training/Walking/v_walk_dog_20_01.mpg', 4], ['/content/Training/Walking/v_walk_dog_24_05.mpg', 4], ['/content/Training/Walking/v_walk_dog_19_02.mpg', 4], ['/content/Training/Walking/v_walk_dog_06_01.mpg', 4], ['/content/Training/Walking/v_walk_dog_05_01.mpg', 4], ['/content/Training/Walking/v_walk_dog_04_02.mpg', 4], ['/content/Training/Walking/v_walk_dog_25_01.mpg', 4], ['/content/Training/Walking/v_walk_dog_03_02.mpg', 4], ['/content/Training/Walking/v_walk_dog_19_05.mpg', 4], ['/content/Training/Walking/v_walk_dog_01_01.mpg', 4], ['/content/Training/Walking/v_walk_dog_04_04.mpg', 4], ['/content/Training/Walking/v_walk_dog_25_02.mpg', 4], ['/content/Training/Walking/v_walk_dog_15_04.mpg', 4], ['/content/Training/Walking/v_walk_dog_01_02.mpg', 4], ['/content/Training/Walking/v_walk_dog_02_01.mpg', 4], ['/content/Training/Walking/v_walk_dog_15_03.mpg', 4], ['/content/Training/Walking/v_walk_dog_01_03.mpg', 4], ['/content/Training/Walking/v_walk_dog_22_03.mpg', 4], ['/content/Training/Walking/v_walk_dog_20_05.mpg', 4], ['/content/Training/Walking/v_walk_dog_24_04.mpg', 4], ['/content/Training/Walking/v_walk_dog_06_04.mpg', 4], ['/content/Training/Walking/v_walk_dog_17_01.mpg', 4], ['/content/Training/Walking/v_walk_dog_24_03.mpg', 4], ['/content/Training/Walking/v_walk_dog_03_03.mpg', 4], ['/content/Training/Walking/v_walk_dog_04_01.mpg', 4], ['/content/Training/Walking/v_walk_dog_06_05.mpg', 4], ['/content/Training/Walking/v_walk_dog_03_01.mpg', 4], ['/content/Training/Walking/v_walk_dog_23_04.mpg', 4], ['/content/Training/Walking/v_walk_dog_23_02.mpg', 4], ['/content/Training/Walking/v_walk_dog_21_01.mpg', 4], ['/content/Training/Walking/v_walk_dog_22_01.mpg', 4], ['/content/Training/Walking/v_walk_dog_05_03.mpg', 4], ['/content/Training/Walking/v_walk_dog_04_03.mpg', 4], ['/content/Training/Walking/v_walk_dog_17_04.mpg', 4], ['/content/Training/Walking/v_walk_dog_17_02.mpg', 4], ['/content/Training/Walking/v_walk_dog_02_04.mpg', 4], ['/content/Training/Walking/v_walk_dog_22_02.mpg', 4], ['/content/Training/Walking/v_walk_dog_15_02.mpg', 4], ['/content/Training/Walking/v_walk_dog_19_01.mpg', 4], ['/content/Training/Walking/v_walk_dog_24_06.mpg', 4], ['/content/Training/Walking/v_walk_dog_08_04.mpg', 4], ['/content/Training/Walking/v_walk_dog_22_04.mpg', 4], ['/content/Training/Walking/v_walk_dog_06_02.mpg', 4], ['/content/Training/Walking/v_walk_dog_20_02.mpg', 4], ['/content/Training/Walking/v_walk_dog_21_03.mpg', 4], ['/content/Training/Diving/v_diving_11_02.mpg', 0], ['/content/Training/Diving/v_diving_04_05.mpg', 0], ['/content/Training/Diving/v_diving_10_06.mpg', 0], ['/content/Training/Diving/v_diving_21_01.mpg', 0], ['/content/Training/Diving/v_diving_10_07.mpg', 0], ['/content/Training/Diving/v_diving_03_03.mpg', 0], ['/content/Training/Diving/v_diving_05_03.mpg', 0], ['/content/Training/Diving/v_diving_12_07.mpg', 0], ['/content/Training/Diving/v_diving_18_02.mpg', 0], ['/content/Training/Diving/v_diving_13_02.mpg', 0], ['/content/Training/Diving/v_diving_07_02.mpg', 0], ['/content/Training/Diving/v_diving_01_03.mpg', 0], ['/content/Training/Diving/v_diving_04_03.mpg', 0], ['/content/Training/Diving/v_diving_12_02.mpg', 0], ['/content/Training/Diving/v_diving_11_03.mpg', 0], ['/content/Training/Diving/v_diving_13_03.mpg', 0], ['/content/Training/Diving/v_diving_24_06.mpg', 0], ['/content/Training/Diving/v_diving_18_04.mpg', 0], ['/content/Training/Diving/v_diving_25_01.mpg', 0], ['/content/Training/Diving/v_diving_13_07.mpg', 0], ['/content/Training/Diving/v_diving_06_04.mpg', 0], ['/content/Training/Diving/v_diving_02_04.mpg', 0], ['/content/Training/Diving/v_diving_11_01.mpg', 0], ['/content/Training/Diving/v_diving_21_04.mpg', 0], ['/content/Training/Diving/v_diving_18_03.mpg', 0], ['/content/Training/Diving/v_diving_06_06.mpg', 0], ['/content/Training/Diving/v_diving_08_05.mpg', 0], ['/content/Training/Diving/v_diving_08_03.mpg', 0], ['/content/Training/Diving/v_diving_12_04.mpg', 0], ['/content/Training/Diving/v_diving_01_06.mpg', 0], ['/content/Training/Diving/v_diving_04_01.mpg', 0], ['/content/Training/Diving/v_diving_15_01.mpg', 0], ['/content/Training/Diving/v_diving_12_03.mpg', 0], ['/content/Training/Diving/v_diving_18_01.mpg', 0], ['/content/Training/Diving/v_diving_21_06.mpg', 0], ['/content/Training/Diving/v_diving_08_06.mpg', 0], ['/content/Training/Diving/v_diving_01_07.mpg', 0], ['/content/Training/Diving/v_diving_08_01.mpg', 0], ['/content/Training/Diving/v_diving_01_01.mpg', 0], ['/content/Training/Diving/v_diving_17_02.mpg', 0], ['/content/Training/Diving/v_diving_04_02.mpg', 0], ['/content/Training/Diving/v_diving_17_04.mpg', 0], ['/content/Training/Diving/v_diving_15_05.mpg', 0], ['/content/Training/Diving/v_diving_10_04.mpg', 0], ['/content/Training/Diving/v_diving_12_06.mpg', 0], ['/content/Training/Diving/v_diving_20_05.mpg', 0], ['/content/Training/Diving/v_diving_13_04.mpg', 0], ['/content/Training/Diving/v_diving_24_05.mpg', 0], ['/content/Training/Diving/v_diving_08_04.mpg', 0], ['/content/Training/Diving/v_diving_11_06.mpg', 0], ['/content/Training/Diving/v_diving_04_04.mpg', 0], ['/content/Training/Diving/v_diving_03_04.mpg', 0], ['/content/Training/Diving/v_diving_05_04.mpg', 0], ['/content/Training/Diving/v_diving_07_03.mpg', 0], ['/content/Training/Diving/v_diving_15_06.mpg', 0], ['/content/Training/Diving/v_diving_13_05.mpg', 0], ['/content/Training/Diving/v_diving_04_07.mpg', 0], ['/content/Training/Diving/v_diving_15_02.mpg', 0], ['/content/Training/Diving/v_diving_15_04.mpg', 0], ['/content/Training/Diving/v_diving_13_06.mpg', 0], ['/content/Training/Diving/v_diving_04_06.mpg', 0], ['/content/Training/Diving/v_diving_01_04.mpg', 0], ['/content/Training/Diving/v_diving_07_01.mpg', 0], ['/content/Training/Diving/v_diving_10_02.mpg', 0], ['/content/Training/Diving/v_diving_10_05.mpg', 0], ['/content/Training/Diving/v_diving_03_05.mpg', 0], ['/content/Training/Diving/v_diving_10_01.mpg', 0], ['/content/Training/Diving/v_diving_05_05.mpg', 0], ['/content/Training/Diving/v_diving_25_04.mpg', 0], ['/content/Training/Diving/v_diving_06_05.mpg', 0], ['/content/Training/Diving/v_diving_25_03.mpg', 0], ['/content/Training/Diving/v_diving_10_03.mpg', 0], ['/content/Training/Diving/v_diving_25_02.mpg', 0], ['/content/Training/Diving/v_diving_06_01.mpg', 0], ['/content/Training/Diving/v_diving_24_07.mpg', 0], ['/content/Training/Diving/v_diving_01_02.mpg', 0], ['/content/Training/Diving/v_diving_15_09.mpg', 0], ['/content/Training/Diving/v_diving_20_01.mpg', 0], ['/content/Training/Diving/v_diving_20_02.mpg', 0], ['/content/Training/Diving/v_diving_08_02.mpg', 0], ['/content/Training/Diving/v_diving_11_04.mpg', 0], ['/content/Training/Diving/v_diving_11_05.mpg', 0], ['/content/Training/Diving/v_diving_21_07.mpg', 0], ['/content/Training/Diving/v_diving_15_08.mpg', 0], ['/content/Training/Diving/v_diving_17_01.mpg', 0], ['/content/Training/Diving/v_diving_03_02.mpg', 0], ['/content/Training/Diving/v_diving_20_03.mpg', 0], ['/content/Training/Diving/v_diving_20_04.mpg', 0], ['/content/Training/Diving/v_diving_02_02.mpg', 0], ['/content/Training/Diving/v_diving_15_03.mpg', 0], ['/content/Training/Diving/v_diving_12_05.mpg', 0], ['/content/Training/Diving/v_diving_24_04.mpg', 0], ['/content/Training/Diving/v_diving_05_06.mpg', 0], ['/content/Training/Diving/v_diving_17_03.mpg', 0], ['/content/Training/Diving/v_diving_21_03.mpg', 0], ['/content/Training/Diving/v_diving_06_07.mpg', 0], ['/content/Training/Diving/v_diving_06_03.mpg', 0], ['/content/Training/Diving/v_diving_01_05.mpg', 0], ['/content/Training/Diving/v_diving_21_02.mpg', 0], ['/content/Training/Diving/v_diving_05_02.mpg', 0], ['/content/Training/Diving/v_diving_24_02.mpg', 0], ['/content/Training/Diving/v_diving_03_01.mpg', 0], ['/content/Training/Diving/v_diving_24_01.mpg', 0], ['/content/Training/Diving/v_diving_24_03.mpg', 0], ['/content/Training/Diving/v_diving_02_01.mpg', 0], ['/content/Training/Diving/v_diving_02_03.mpg', 0], ['/content/Training/Diving/v_diving_21_05.mpg', 0], ['/content/Training/Diving/v_diving_15_07.mpg', 0], ['/content/Training/Diving/v_diving_13_01.mpg', 0], ['/content/Training/Diving/v_diving_06_02.mpg', 0], ['/content/Training/Diving/v_diving_05_01.mpg', 0], ['/content/Training/Diving/v_diving_07_04.mpg', 0], ['/content/Training/Diving/v_diving_12_01.mpg', 0], ['/content/Training/Tennis/v_tennis_09_07.mpg', 3], ['/content/Training/Tennis/v_tennis_20_05.mpg', 3], ['/content/Training/Tennis/v_tennis_19_03.mpg', 3], ['/content/Training/Tennis/v_tennis_23_03.mpg', 3], ['/content/Training/Tennis/v_tennis_20_01.mpg', 3], ['/content/Training/Tennis/v_tennis_25_04.mpg', 3], ['/content/Training/Tennis/v_tennis_23_02.mpg', 3], ['/content/Training/Tennis/v_tennis_09_03.mpg', 3], ['/content/Training/Tennis/v_tennis_21_06.mpg', 3], ['/content/Training/Tennis/v_tennis_16_03.mpg', 3], ['/content/Training/Tennis/v_tennis_01_04.mpg', 3], ['/content/Training/Tennis/v_tennis_01_05.mpg', 3], ['/content/Training/Tennis/v_tennis_09_05.mpg', 3], ['/content/Training/Tennis/v_tennis_17_04.mpg', 3], ['/content/Training/Tennis/v_tennis_01_01.mpg', 3], ['/content/Training/Tennis/v_tennis_05_07.mpg', 3], ['/content/Training/Tennis/v_tennis_05_04.mpg', 3], ['/content/Training/Tennis/v_tennis_19_01.mpg', 3], ['/content/Training/Tennis/v_tennis_15_05.mpg', 3], ['/content/Training/Tennis/v_tennis_15_01.mpg', 3], ['/content/Training/Tennis/v_tennis_24_02.mpg', 3], ['/content/Training/Tennis/v_tennis_05_03.mpg', 3], ['/content/Training/Tennis/v_tennis_09_04.mpg', 3], ['/content/Training/Tennis/v_tennis_16_01.mpg', 3], ['/content/Training/Tennis/v_tennis_19_05.mpg', 3], ['/content/Training/Tennis/v_tennis_21_05.mpg', 3], ['/content/Training/Tennis/v_tennis_17_06.mpg', 3], ['/content/Training/Tennis/v_tennis_17_03.mpg', 3], ['/content/Training/Tennis/v_tennis_23_06.mpg', 3], ['/content/Training/Tennis/v_tennis_25_02.mpg', 3], ['/content/Training/Tennis/v_tennis_19_04.mpg', 3], ['/content/Training/Tennis/v_tennis_12_03.mpg', 3], ['/content/Training/Tennis/v_tennis_12_01.mpg', 3], ['/content/Training/Tennis/v_tennis_18_05.mpg', 3], ['/content/Training/Tennis/v_tennis_21_01.mpg', 3], ['/content/Training/Tennis/v_tennis_21_03.mpg', 3], ['/content/Training/Tennis/v_tennis_24_04.mpg', 3], ['/content/Training/Tennis/v_tennis_24_05.mpg', 3], ['/content/Training/Tennis/v_tennis_22_01.mpg', 3], ['/content/Training/Tennis/v_tennis_15_04.mpg', 3], ['/content/Training/Tennis/v_tennis_19_06.mpg', 3], ['/content/Training/Tennis/v_tennis_25_03.mpg', 3], ['/content/Training/Tennis/v_tennis_12_05.mpg', 3], ['/content/Training/Tennis/v_tennis_15_08.mpg', 3], ['/content/Training/Tennis/v_tennis_15_07.mpg', 3], ['/content/Training/Tennis/v_tennis_23_05.mpg', 3], ['/content/Training/Tennis/v_tennis_12_04.mpg', 3], ['/content/Training/Tennis/v_tennis_14_02.mpg', 3], ['/content/Training/Tennis/v_tennis_25_01.mpg', 3], ['/content/Training/Tennis/v_tennis_22_03.mpg', 3], ['/content/Training/Tennis/v_tennis_15_06.mpg', 3], ['/content/Training/Tennis/v_tennis_01_07.mpg', 3], ['/content/Training/Tennis/v_tennis_14_03.mpg', 3], ['/content/Training/Tennis/v_tennis_16_02.mpg', 3], ['/content/Training/Tennis/v_tennis_16_05.mpg', 3], ['/content/Training/Tennis/v_tennis_09_06.mpg', 3], ['/content/Training/Tennis/v_tennis_22_06.mpg', 3], ['/content/Training/Tennis/v_tennis_05_01.mpg', 3], ['/content/Training/Tennis/v_tennis_01_06.mpg', 3], ['/content/Training/Tennis/v_tennis_20_03.mpg', 3], ['/content/Training/Tennis/v_tennis_09_01.mpg', 3], ['/content/Training/Tennis/v_tennis_18_02.mpg', 3], ['/content/Training/Tennis/v_tennis_22_04.mpg', 3], ['/content/Training/Tennis/v_tennis_25_05.mpg', 3], ['/content/Training/Tennis/v_tennis_01_02.mpg', 3], ['/content/Training/Tennis/v_tennis_23_04.mpg', 3], ['/content/Training/Tennis/v_tennis_22_05.mpg', 3], ['/content/Training/Tennis/v_tennis_21_04.mpg', 3], ['/content/Training/Tennis/v_tennis_14_01.mpg', 3], ['/content/Training/Tennis/v_tennis_17_01.mpg', 3], ['/content/Training/Tennis/v_tennis_18_01.mpg', 3], ['/content/Training/Tennis/v_tennis_17_02.mpg', 3], ['/content/Training/Tennis/v_tennis_15_02.mpg', 3], ['/content/Training/Tennis/v_tennis_05_02.mpg', 3], ['/content/Training/Tennis/v_tennis_01_03.mpg', 3], ['/content/Training/Tennis/v_tennis_14_04.mpg', 3], ['/content/Training/Tennis/v_tennis_12_07.mpg', 3], ['/content/Training/Tennis/v_tennis_19_02.mpg', 3], ['/content/Training/Tennis/v_tennis_12_02.mpg', 3], ['/content/Training/Tennis/v_tennis_20_04.mpg', 3], ['/content/Training/Tennis/v_tennis_14_07.mpg', 3], ['/content/Training/Tennis/v_tennis_20_02.mpg', 3], ['/content/Training/Tennis/v_tennis_05_05.mpg', 3], ['/content/Training/Tennis/v_tennis_15_03.mpg', 3], ['/content/Training/Tennis/v_tennis_18_04.mpg', 3], ['/content/Training/Tennis/v_tennis_12_06.mpg', 3], ['/content/Training/Tennis/v_tennis_24_06.mpg', 3], ['/content/Training/Tennis/v_tennis_18_06.mpg', 3], ['/content/Training/Tennis/v_tennis_18_03.mpg', 3], ['/content/Training/Tennis/v_tennis_22_02.mpg', 3], ['/content/Training/Tennis/v_tennis_17_05.mpg', 3], ['/content/Training/Tennis/v_tennis_21_02.mpg', 3], ['/content/Training/Tennis/v_tennis_05_06.mpg', 3], ['/content/Training/Tennis/v_tennis_14_05.mpg', 3], ['/content/Training/Tennis/v_tennis_24_01.mpg', 3], ['/content/Training/Tennis/v_tennis_16_07.mpg', 3], ['/content/Training/Tennis/v_tennis_16_04.mpg', 3], ['/content/Training/Tennis/v_tennis_17_07.mpg', 3], ['/content/Training/Tennis/v_tennis_09_02.mpg', 3], ['/content/Training/Tennis/v_tennis_20_06.mpg', 3], ['/content/Training/Tennis/v_tennis_14_06.mpg', 3], ['/content/Training/Tennis/v_tennis_23_01.mpg', 3], ['/content/Training/Tennis/v_tennis_25_06.mpg', 3], ['/content/Training/Tennis/v_tennis_24_03.mpg', 3], ['/content/Training/Tennis/v_tennis_16_06.mpg', 3], ['/content/Training/Jumping/v_jumping_04_02.mpg', 1], ['/content/Training/Jumping/v_jumping_21_04.mpg', 1], ['/content/Training/Jumping/v_jumping_04_01.mpg', 1], ['/content/Training/Jumping/v_jumping_09_04.mpg', 1], ['/content/Training/Jumping/v_jumping_11_03.mpg', 1], ['/content/Training/Jumping/v_jumping_02_05.mpg', 1], ['/content/Training/Jumping/v_jumping_02_01.mpg', 1], ['/content/Training/Jumping/v_jumping_11_04.mpg', 1], ['/content/Training/Jumping/v_jumping_07_01.mpg', 1], ['/content/Training/Jumping/v_jumping_10_05.mpg', 1], ['/content/Training/Jumping/v_jumping_10_04.mpg', 1], ['/content/Training/Jumping/v_jumping_25_01.mpg', 1], ['/content/Training/Jumping/v_jumping_11_05.mpg', 1], ['/content/Training/Jumping/v_jumping_21_01.mpg', 1], ['/content/Training/Jumping/v_jumping_09_05.mpg', 1], ['/content/Training/Jumping/v_jumping_07_03.mpg', 1], ['/content/Training/Jumping/v_jumping_19_05.mpg', 1], ['/content/Training/Jumping/v_jumping_14_04.mpg', 1], ['/content/Training/Jumping/v_jumping_09_02.mpg', 1], ['/content/Training/Jumping/v_jumping_21_03.mpg', 1], ['/content/Training/Jumping/v_jumping_10_03.mpg', 1], ['/content/Training/Jumping/v_jumping_19_04.mpg', 1], ['/content/Training/Jumping/v_jumping_24_01.mpg', 1], ['/content/Training/Jumping/v_jumping_17_03.mpg', 1], ['/content/Training/Jumping/v_jumping_10_01.mpg', 1], ['/content/Training/Jumping/v_jumping_25_03.mpg', 1], ['/content/Training/Jumping/v_jumping_08_01.mpg', 1], ['/content/Training/Jumping/v_jumping_22_03.mpg', 1], ['/content/Training/Jumping/v_jumping_22_04.mpg', 1], ['/content/Training/Jumping/v_jumping_23_04.mpg', 1], ['/content/Training/Jumping/v_jumping_09_03.mpg', 1], ['/content/Training/Jumping/v_jumping_10_06.mpg', 1], ['/content/Training/Jumping/v_jumping_13_04.mpg', 1], ['/content/Training/Jumping/v_jumping_16_02.mpg', 1], ['/content/Training/Jumping/v_jumping_04_03.mpg', 1], ['/content/Training/Jumping/v_jumping_07_02.mpg', 1], ['/content/Training/Jumping/v_jumping_08_02.mpg', 1], ['/content/Training/Jumping/v_jumping_14_02.mpg', 1], ['/content/Training/Jumping/v_jumping_14_01.mpg', 1], ['/content/Training/Jumping/v_jumping_10_02.mpg', 1], ['/content/Training/Jumping/v_jumping_17_01.mpg', 1], ['/content/Training/Jumping/v_jumping_19_02.mpg', 1], ['/content/Training/Jumping/v_jumping_20_05.mpg', 1], ['/content/Training/Jumping/v_jumping_06_03.mpg', 1], ['/content/Training/Jumping/v_jumping_18_04.mpg', 1], ['/content/Training/Jumping/v_jumping_02_03.mpg', 1], ['/content/Training/Jumping/v_jumping_25_02.mpg', 1], ['/content/Training/Jumping/v_jumping_19_03.mpg', 1], ['/content/Training/Jumping/v_jumping_19_06.mpg', 1], ['/content/Training/Jumping/v_jumping_01_02.mpg', 1], ['/content/Training/Jumping/v_jumping_15_02.mpg', 1], ['/content/Training/Jumping/v_jumping_05_01.mpg', 1], ['/content/Training/Jumping/v_jumping_05_02.mpg', 1], ['/content/Training/Jumping/v_jumping_16_03.mpg', 1], ['/content/Training/Jumping/v_jumping_17_04.mpg', 1], ['/content/Training/Jumping/v_jumping_02_04.mpg', 1], ['/content/Training/Jumping/v_jumping_04_04.mpg', 1], ['/content/Training/Jumping/v_jumping_18_02.mpg', 1], ['/content/Training/Jumping/v_jumping_04_05.mpg', 1], ['/content/Training/Jumping/v_jumping_03_04.mpg', 1], ['/content/Training/Jumping/v_jumping_22_06.mpg', 1], ['/content/Training/Jumping/v_jumping_24_03.mpg', 1], ['/content/Training/Jumping/v_jumping_07_04.mpg', 1], ['/content/Training/Jumping/v_jumping_22_02.mpg', 1], ['/content/Training/Jumping/v_jumping_22_05.mpg', 1], ['/content/Training/Jumping/v_jumping_13_02.mpg', 1], ['/content/Training/Jumping/v_jumping_17_02.mpg', 1], ['/content/Training/Jumping/v_jumping_16_05.mpg', 1], ['/content/Training/Jumping/v_jumping_19_01.mpg', 1], ['/content/Training/Jumping/v_jumping_02_02.mpg', 1], ['/content/Training/Jumping/v_jumping_18_03.mpg', 1], ['/content/Training/Jumping/v_jumping_11_02.mpg', 1], ['/content/Training/Jumping/v_jumping_13_03.mpg', 1], ['/content/Training/Jumping/v_jumping_20_01.mpg', 1], ['/content/Training/Jumping/v_jumping_15_03.mpg', 1], ['/content/Training/Jumping/v_jumping_23_02.mpg', 1], ['/content/Training/Jumping/v_jumping_25_04.mpg', 1], ['/content/Training/Jumping/v_jumping_22_01.mpg', 1], ['/content/Training/Jumping/v_jumping_24_02.mpg', 1], ['/content/Training/Jumping/v_jumping_14_03.mpg', 1], ['/content/Training/Jumping/v_jumping_23_03.mpg', 1], ['/content/Training/Jumping/v_jumping_20_04.mpg', 1], ['/content/Training/Jumping/v_jumping_21_02.mpg', 1], ['/content/Training/Jumping/v_jumping_08_03.mpg', 1], ['/content/Training/Jumping/v_jumping_24_04.mpg', 1], ['/content/Training/Jumping/v_jumping_01_03.mpg', 1], ['/content/Training/Jumping/v_jumping_16_04.mpg', 1], ['/content/Training/Jumping/v_jumping_15_01.mpg', 1], ['/content/Training/Jumping/v_jumping_20_03.mpg', 1], ['/content/Training/Jumping/v_jumping_09_01.mpg', 1], ['/content/Training/Jumping/v_jumping_05_03.mpg', 1], ['/content/Training/Jumping/v_jumping_06_01.mpg', 1], ['/content/Training/Jumping/v_jumping_20_02.mpg', 1], ['/content/Training/Jumping/v_jumping_23_01.mpg', 1], ['/content/Training/Jumping/v_jumping_06_02.mpg', 1], ['/content/Training/Jumping/v_jumping_11_01.mpg', 1], ['/content/Training/Jumping/v_jumping_16_06.mpg', 1], ['/content/Training/Jumping/v_jumping_18_01.mpg', 1], ['/content/Training/Jumping/v_jumping_16_01.mpg', 1], ['/content/Training/Jumping/v_jumping_03_01.mpg', 1]]\n",
            "472\n"
          ],
          "name": "stdout"
        }
      ]
    },
    {
      "cell_type": "markdown",
      "metadata": {
        "id": "LR8IO9kDJw3p",
        "colab_type": "text"
      },
      "source": [
        "flows\n",
        "---"
      ]
    },
    {
      "cell_type": "code",
      "metadata": {
        "id": "z_ktJ3VIkssI",
        "colab_type": "code",
        "colab": {}
      },
      "source": [
        "def extract_flow(path, no_of_frames):\n",
        "    no_of_frames+=1\n",
        "    cap = cv2.VideoCapture(path);\n",
        "    \n",
        "    fps = int(cap.get(cv2.CAP_PROP_FPS)) #all 29.97002997002997\n",
        "    frame_count = int(cap.get(cv2.CAP_PROP_FRAME_COUNT))\n",
        "    h = w = 256\n",
        "    \n",
        "    end = frame_count-(frame_count%no_of_frames)\n",
        "    stride = int(np.ceil(frame_count/no_of_frames))\n",
        "    \n",
        "    if stride == 0:\n",
        "        stride = 1    \n",
        "    frames_taken = []\n",
        "    \n",
        "    i = 0\n",
        "    j = 0\n",
        "    while i < no_of_frames:\n",
        "        for frame_no in range(j, frame_count, stride):\n",
        "            if i >= no_of_frames:\n",
        "                break\n",
        "            frames_taken.append(frame_no)\n",
        "            i+=1\n",
        "        j+=1\n",
        "\n",
        "    #frames_taken.sort()\n",
        "    #print(frames_taken)\n",
        "    #print(len(frames_taken))\n",
        "\n",
        "    #cap.set(cv2.CAP_PROP_POS_FRAMES, 3)\n",
        "    #print(cap.get(cv2.CAP_PROP_POS_FRAMES))\n",
        "\n",
        "\n",
        "    sorted_list_img = []\n",
        "    for frame_no in frames_taken:\n",
        "        #print('fn: ',frame_no)      \n",
        "        cap.set(cv2.CAP_PROP_POS_FRAMES, frame_no)\n",
        "        #print(cap.get(cv2.CAP_PROP_POS_FRAMES))\n",
        "        ret, frame = cap.read()\n",
        "        img_gray = cv2.cvtColor(frame, cv2.COLOR_BGR2GRAY)\n",
        "        sorted_list_img.append(img_gray)\n",
        "    \n",
        "    #print('gray done')\n",
        "    result = np.zeros((1, IMAGE_CROP_SIZE, IMAGE_CROP_SIZE, 2))    \n",
        "    prev = sorted_list_img[0]\n",
        "    for curr in sorted_list_img[1:]:\n",
        "        flow = compute_optical_flow(prev, curr)\n",
        "        #print('compute_optical_flow done')\n",
        "\n",
        "        flow = pre_process_flow(flow)\n",
        "        #print('pre_process_flow done')\n",
        "\n",
        "        prev = curr\n",
        "        result = np.append(result, flow, axis=0)\n",
        "\n",
        "    result = result[1:, :, :, :]\n",
        "    result = np.expand_dims(result, axis=0)\n",
        "    #print(result.shape)\n",
        "    return result\n",
        "\n",
        "\n",
        "    "
      ],
      "execution_count": null,
      "outputs": []
    },
    {
      "cell_type": "code",
      "metadata": {
        "id": "ABtHJ7uPTYw3",
        "colab_type": "code",
        "colab": {}
      },
      "source": [
        "for folder in os.listdir(train_path):\n",
        "    for video in os.listdir(train_path+folder):\n",
        "        #extract_flow(train_path+folder+'/'+video, 125)\n",
        "        pass\n",
        " "
      ],
      "execution_count": null,
      "outputs": []
    },
    {
      "cell_type": "markdown",
      "metadata": {
        "id": "ASTFM0P0ciBg",
        "colab_type": "text"
      },
      "source": [
        "MODEL\n",
        "---"
      ]
    },
    {
      "cell_type": "code",
      "metadata": {
        "id": "tv7F1gl2chdU",
        "colab_type": "code",
        "colab": {
          "base_uri": "https://localhost:8080/",
          "height": 90
        },
        "outputId": "d0cc8a43-4b8b-4727-feb7-e06827175a9b"
      },
      "source": [
        "!git clone https://github.com/dlpbc/keras-kinetics-i3d.git"
      ],
      "execution_count": null,
      "outputs": [
        {
          "output_type": "stream",
          "text": [
            "Cloning into 'keras-kinetics-i3d'...\n",
            "remote: Enumerating objects: 49, done.\u001b[K\n",
            "remote: Total 49 (delta 0), reused 0 (delta 0), pack-reused 49\u001b[K\n",
            "Unpacking objects: 100% (49/49), done.\n"
          ],
          "name": "stdout"
        }
      ]
    },
    {
      "cell_type": "code",
      "metadata": {
        "id": "4r9XBzD9tqR_",
        "colab_type": "code",
        "colab": {}
      },
      "source": [
        "#!pip install keras-video-generators"
      ],
      "execution_count": null,
      "outputs": []
    },
    {
      "cell_type": "code",
      "metadata": {
        "id": "qOwWHmIXxjC7",
        "colab_type": "code",
        "colab": {
          "base_uri": "https://localhost:8080/",
          "height": 54
        },
        "outputId": "354e2617-6c71-4ce7-837c-c060b74c0b21"
      },
      "source": [
        "%cd /content/keras-kinetics-i3d/\n",
        "\n",
        "from __future__ import print_function\n",
        "from __future__ import absolute_import\n",
        "\n",
        "import warnings\n",
        "\n",
        "import numpy as np\n",
        "\n",
        "from keras.models import Model\n",
        "from keras import layers\n",
        "from keras.layers import Activation\n",
        "from keras.layers import Dense\n",
        "from keras.layers import Input\n",
        "from keras.layers import BatchNormalization\n",
        "from keras.layers import Conv3D\n",
        "from keras.layers import MaxPooling3D\n",
        "from keras.layers import AveragePooling3D\n",
        "from keras.layers import Dropout\n",
        "from keras.layers import Reshape\n",
        "from keras.layers import Lambda\n",
        "from keras.layers import GlobalAveragePooling3D\n",
        "\n",
        "from keras.engine.topology import get_source_inputs\n",
        "from keras.utils import layer_utils\n",
        "from keras.utils.data_utils import get_file\n",
        "from keras import backend as K\n",
        "from i3d_inception import conv3d_bn\n",
        "from keras.optimizers import Adam\n"
      ],
      "execution_count": null,
      "outputs": [
        {
          "output_type": "stream",
          "text": [
            "/content/keras-kinetics-i3d\n"
          ],
          "name": "stdout"
        },
        {
          "output_type": "stream",
          "text": [
            "Using TensorFlow backend.\n"
          ],
          "name": "stderr"
        }
      ]
    },
    {
      "cell_type": "markdown",
      "metadata": {
        "id": "blFvRDuFxMws",
        "colab_type": "text"
      },
      "source": [
        "train rgb model(takes from 3 to 5 hrs depending on #input_frames)\n",
        "---"
      ]
    },
    {
      "cell_type": "code",
      "metadata": {
        "id": "W2CEPl0TuMUB",
        "colab_type": "code",
        "colab": {}
      },
      "source": [
        "import numpy as np\n",
        "import argparse\n",
        "\n",
        "from i3d_inception import Inception_Inflated3d\n",
        "\n",
        "NUM_CLASSES = 5\n",
        "FRAME_HEIGHT = FRAME_WIDTH = 224\n",
        "NUM_RGB_CHANNELS = 3\n",
        "NUM_FLOW_CHANNELS = 2\n",
        "NUM_FRAMES = 64"
      ],
      "execution_count": 25,
      "outputs": []
    },
    {
      "cell_type": "code",
      "metadata": {
        "id": "NpoX_Tn-qvwN",
        "colab_type": "code",
        "colab": {}
      },
      "source": [
        "#define models\n",
        "# build model for rgb data\n",
        "# and load pretrained weights (trained on imagenet and kinetics dataset)\n",
        "rgb_model = Inception_Inflated3d(\n",
        "                include_top=False,\n",
        "                weights='rgb_imagenet_and_kinetics',\n",
        "                input_shape=(NUM_FRAMES, FRAME_HEIGHT, FRAME_WIDTH, NUM_RGB_CHANNELS),\n",
        "                classes=NUM_CLASSES)\n",
        " "
      ],
      "execution_count": null,
      "outputs": []
    },
    {
      "cell_type": "code",
      "metadata": {
        "id": "C6IDRJkXFwm1",
        "colab_type": "code",
        "colab": {}
      },
      "source": [
        "#rgb_model.summary()"
      ],
      "execution_count": null,
      "outputs": []
    },
    {
      "cell_type": "code",
      "metadata": {
        "id": "9y8tlyF8v63B",
        "colab_type": "code",
        "colab": {}
      },
      "source": [
        "x = rgb_model.get_layer('global_avg_pool').output\n",
        "\n",
        "x = Dropout(0.0)(x)\n",
        "\n",
        "x = conv3d_bn(x, NUM_CLASSES, 1, 1, 1, padding='same', \n",
        "        use_bias=True, use_activation_fn=False, use_bn=False, name='Conv3d_6a_1x1')\n",
        " \n",
        "num_frames_remaining = int(x.shape[1])\n",
        "x = Reshape((num_frames_remaining, NUM_CLASSES))(x)\n",
        "\n",
        "# logits (raw scores for each class)\n",
        "x = Lambda(lambda x: K.mean(x, axis=1, keepdims=False),\n",
        "            output_shape=lambda s: (s[0], s[2]))(x)\n",
        "\n",
        "x = Activation('softmax', name='prediction')(x)\n",
        "\n",
        "F_rgb_model = Model(rgb_model.get_layer(index = 0).output, x, name='i3d_inception_rgb')"
      ],
      "execution_count": null,
      "outputs": []
    },
    {
      "cell_type": "code",
      "metadata": {
        "id": "yRIT6_wrGkf1",
        "colab_type": "code",
        "colab": {}
      },
      "source": [
        "F_rgb_model.summary()"
      ],
      "execution_count": null,
      "outputs": []
    },
    {
      "cell_type": "code",
      "metadata": {
        "id": "PrxsuBXaokMg",
        "colab_type": "code",
        "colab": {
          "base_uri": "https://localhost:8080/",
          "height": 54
        },
        "outputId": "0fe9a7d0-24d0-4978-9959-3c9ea6316956"
      },
      "source": [
        "from random import shuffle\n",
        "shuffle(train_paths)\n",
        "train = train_paths[0:]\n",
        "val = train_paths[337:]\n",
        "print(len(train))\n",
        "print(len(val))\n",
        "\n",
        "global train_index\n",
        "train_index = 0\n",
        "global test_index\n",
        "test_index = 0"
      ],
      "execution_count": null,
      "outputs": [
        {
          "output_type": "stream",
          "text": [
            "472\n",
            "135\n"
          ],
          "name": "stdout"
        }
      ]
    },
    {
      "cell_type": "code",
      "metadata": {
        "id": "UDXTNIHT4YC7",
        "colab_type": "code",
        "colab": {}
      },
      "source": [
        "\n",
        "\n",
        "def load_data(batch_size, paths, train_bool):\n",
        "    \n",
        "    index = 0\n",
        "    if train_bool:\n",
        "        global train_index\n",
        "        if train_index == len(paths):\n",
        "            train_index = 0\n",
        "        index = train_index\n",
        "    else:\n",
        "        global test_index\n",
        "        if test_index == len(paths):\n",
        "            test_index = 0\n",
        "        index = test_index\n",
        "\n",
        "    example = paths[index]\n",
        "    f = extract_rgb(example[0], NUM_FRAMES)\n",
        "    \n",
        "    if train_bool:\n",
        "        train_index+=1\n",
        "    else:\n",
        "        test_index+=1\n",
        "    \n",
        "    return (f, [example[1]])\n",
        "\n",
        "def batch_generator(batch_size, steps, paths, train_bool):\n",
        "    \n",
        "    idx=1\n",
        "    while True: \n",
        "        yield load_data(batch_size, paths, train_bool)## Yields data\n",
        "        if idx<steps:\n",
        "            idx+=1\n",
        "        else:\n",
        "            idx=1\n",
        "train_batch_generator = batch_generator(1, 1, train, True)\n",
        "val_batch_generator = batch_generator(1, 1, val, False)"
      ],
      "execution_count": null,
      "outputs": []
    },
    {
      "cell_type": "code",
      "metadata": {
        "id": "XVsfzmwC3WPL",
        "colab_type": "code",
        "colab": {}
      },
      "source": [
        "F_rgb_model.compile(optimizer=Adam(0.00001), loss='sparse_categorical_crossentropy', metrics=['accuracy'])"
      ],
      "execution_count": null,
      "outputs": []
    },
    {
      "cell_type": "code",
      "metadata": {
        "id": "BEd-NrWC7rRQ",
        "colab_type": "code",
        "colab": {}
      },
      "source": [
        "#F_rgb_model.load_weights('/content/drive/My Drive/cv/a_rgb_model.h5')"
      ],
      "execution_count": null,
      "outputs": []
    },
    {
      "cell_type": "code",
      "metadata": {
        "id": "O99MJTV13wmU",
        "colab_type": "code",
        "colab": {}
      },
      "source": [
        "#F_rgb_model.fit_generator(train_batch_generator, epochs=100, steps_per_epoch=377//1, verbose=1, validation_data=val_batch_generator, validation_steps=135//1) #train_length // batch_size\n",
        "#F_rgb_model.fit_generator(train_batch_generator, epochs=10, steps_per_epoch=472//1, verbose=1) #train_length // batch_size loss = 0.4"
      ],
      "execution_count": null,
      "outputs": []
    },
    {
      "cell_type": "code",
      "metadata": {
        "id": "6TMZyg0wE08d",
        "colab_type": "code",
        "colab": {}
      },
      "source": [
        "#F_rgb_model.save_weights(\"64_rgb_model_2.h5\")\n",
        "#!cp '64_rgb_model_2.h5' '/content/drive/My Drive/cv/'\n"
      ],
      "execution_count": null,
      "outputs": []
    },
    {
      "cell_type": "markdown",
      "metadata": {
        "id": "Bw0e0MJAZgeO",
        "colab_type": "text"
      },
      "source": [
        "test on rgb(best results)\n",
        "---"
      ]
    },
    {
      "cell_type": "code",
      "metadata": {
        "id": "xgASHCg0I-zn",
        "colab_type": "code",
        "colab": {}
      },
      "source": [
        "import numpy as np\n",
        "import argparse\n",
        "\n",
        "from i3d_inception import Inception_Inflated3d\n",
        "\n",
        "NUM_CLASSES = 5\n",
        "FRAME_HEIGHT = FRAME_WIDTH = 224\n",
        "NUM_RGB_CHANNELS = 3\n",
        "NUM_FLOW_CHANNELS = 2\n",
        "NUM_FRAMES = 64\n",
        "\n",
        "#define models\n",
        "# build model for rgb data\n",
        "# and load pretrained weights (trained on imagenet and kinetics dataset)\n",
        "rgb_model = Inception_Inflated3d(\n",
        "                include_top=False,\n",
        "                weights=None,\n",
        "                input_shape=(NUM_FRAMES, FRAME_HEIGHT, FRAME_WIDTH, NUM_RGB_CHANNELS),\n",
        "                classes=NUM_CLASSES)\n",
        "\n",
        "x = rgb_model.get_layer('global_avg_pool').output\n",
        "\n",
        "x = Dropout(0.0)(x)\n",
        "\n",
        "x = conv3d_bn(x, NUM_CLASSES, 1, 1, 1, padding='same', \n",
        "        use_bias=True, use_activation_fn=False, use_bn=False, name='Conv3d_6a_1x1')\n",
        " \n",
        "num_frames_remaining = int(x.shape[1])\n",
        "x = Reshape((num_frames_remaining, NUM_CLASSES))(x)\n",
        "\n",
        "# logits (raw scores for each class)\n",
        "x = Lambda(lambda x: K.mean(x, axis=1, keepdims=False),\n",
        "            output_shape=lambda s: (s[0], s[2]))(x)\n",
        "\n",
        "x = Activation('softmax', name='prediction')(x)\n",
        "\n",
        "rgb_model = Model(rgb_model.get_layer(index = 0).output, x, name='i3d_inception_rgb')\n",
        "\n",
        "rgb_model.load_weights(\"/content/drive/My Drive/cv/a_rgb_model.h5\")\n",
        "#rgb_model.load_weights(\"/content/drive/My Drive/a_rgb_model.h5\")\n"
      ],
      "execution_count": 26,
      "outputs": []
    },
    {
      "cell_type": "code",
      "metadata": {
        "colab_type": "code",
        "id": "YIlpwiHJ9UbU",
        "colab": {
          "base_uri": "https://localhost:8080/",
          "height": 55
        },
        "outputId": "83f29389-2205-4ec6-a63d-f15ee583dab0"
      },
      "source": [
        "#sort test vids\n",
        "vid_paths = [\"\" for x in range(126)]\n",
        "\n",
        "i = 0\n",
        "for video in os.listdir(test_path):\n",
        "    start = video.find('(')\n",
        "    end = video.find(')')\n",
        "\n",
        "    num = video[start+1:end]\n",
        "    num = int(num)\n",
        "    vid_paths[num-1] = video\n",
        "    i+=1\n",
        "\n",
        "print(vid_paths)"
      ],
      "execution_count": 27,
      "outputs": [
        {
          "output_type": "stream",
          "text": [
            "['test_image (1).mpg', 'test_image (2).mpg', 'test_image (3).mpg', 'test_image (4).mpg', 'test_image (5).mpg', 'test_image (6).mpg', 'test_image (7).mpg', 'test_image (8).mpg', 'test_image (9).mpg', 'test_image (10).mpg', 'test_image (11).mpg', 'test_image (12).mpg', 'test_image (13).mpg', 'test_image (14).mpg', 'test_image (15).mpg', 'test_image (16).mpg', 'test_image (17).mpg', 'test_image (18).mpg', 'test_image (19).mpg', 'test_image (20).mpg', 'test_image (21).mpg', 'test_image (22).mpg', 'test_image (23).mpg', 'test_image (24).mpg', 'test_image (25).mpg', 'test_image (26).mpg', 'test_image (27).mpg', 'test_image (28).mpg', 'test_image (29).mpg', 'test_image (30).mpg', 'test_image (31).mpg', 'test_image (32).mpg', 'test_image (33).mpg', 'test_image (34).mpg', 'test_image (35).mpg', 'test_image (36).mpg', 'test_image (37).mpg', 'test_image (38).mpg', 'test_image (39).mpg', 'test_image (40).mpg', 'test_image (41).mpg', 'test_image (42).mpg', 'test_image (43).mpg', 'test_image (44).mpg', 'test_image (45).mpg', 'test_image (46).mpg', 'test_image (47).mpg', 'test_image (48).mpg', 'test_image (49).mpg', 'test_image (50).mpg', 'test_image (51).mpg', 'test_image (52).mpg', 'test_image (53).mpg', 'test_image (54).mpg', 'test_image (55).mpg', 'test_image (56).mpg', 'test_image (57).mpg', 'test_image (58).mpg', 'test_image (59).mpg', 'test_image (60).mpg', 'test_image (61).mpg', 'test_image (62).mpg', 'test_image (63).mpg', 'test_image (64).mpg', 'test_image (65).mpg', 'test_image (66).mpg', 'test_image (67).mpg', 'test_image (68).mpg', 'test_image (69).mpg', 'test_image (70).mpg', 'test_image (71).mpg', 'test_image (72).mpg', 'test_image (73).mpg', 'test_image (74).mpg', 'test_image (75).mpg', 'test_image (76).mpg', 'test_image (77).mpg', 'test_image (78).mpg', 'test_image (79).mpg', 'test_image (80).mpg', 'test_image (81).mpg', 'test_image (82).mpg', 'test_image (83).mpg', 'test_image (84).mpg', 'test_image (85).mpg', 'test_image (86).mpg', 'test_image (87).mpg', 'test_image (88).mpg', 'test_image (89).mpg', 'test_image (90).mpg', 'test_image (91).mpg', 'test_image (92).mpg', 'test_image (93).mpg', 'test_image (94).mpg', 'test_image (95).mpg', 'test_image (96).mpg', 'test_image (97).mpg', 'test_image (98).mpg', 'test_image (99).mpg', 'test_image (100).mpg', 'test_image (101).mpg', 'test_image (102).mpg', 'test_image (103).mpg', 'test_image (104).mpg', 'test_image (105).mpg', 'test_image (106).mpg', 'test_image (107).mpg', 'test_image (108).mpg', 'test_image (109).mpg', 'test_image (110).mpg', 'test_image (111).mpg', 'test_image (112).mpg', 'test_image (113).mpg', 'test_image (114).mpg', 'test_image (115).mpg', 'test_image (116).mpg', 'test_image (117).mpg', 'test_image (118).mpg', 'test_image (119).mpg', 'test_image (120).mpg', 'test_image (121).mpg', 'test_image (122).mpg', 'test_image (123).mpg', 'test_image (124).mpg', 'test_image (125).mpg', 'test_image (126).mpg']\n"
          ],
          "name": "stdout"
        }
      ]
    },
    {
      "cell_type": "code",
      "metadata": {
        "id": "kcVua9E2WTS3",
        "colab_type": "code",
        "colab": {}
      },
      "source": [
        "clss = {1:0, 2:1, 0:2, 3:3, 4:4}"
      ],
      "execution_count": 29,
      "outputs": []
    },
    {
      "cell_type": "code",
      "metadata": {
        "colab_type": "code",
        "id": "FP3xURCy9Ube",
        "colab": {
          "base_uri": "https://localhost:8080/",
          "height": 1000
        },
        "outputId": "d7f1e98f-0207-40c0-f028-53a493a12564"
      },
      "source": [
        "#                 0           1          2        3          4\n",
        "#            Diving         Jumping    Basketball  Tennis   Walking\n",
        "#                1            2          0           3        4\n",
        "i = 0\n",
        "acc = 0\n",
        "pred = []\n",
        "for video in vid_paths:\n",
        "    flow = extract_rgb(test_path+video, NUM_FRAMES)\n",
        "    flow_logits = rgb_model.predict(flow)\n",
        "    flow_logits = flow_logits[0]\n",
        "\n",
        "    sample_predictions = np.exp(flow_logits) / np.sum(np.exp(flow_logits))\n",
        "\n",
        "    sorted_indices = np.argsort(sample_predictions)[::-1]\n",
        "    print(clss[sorted_indices[0]])\n",
        "    pred.append(clss[sorted_indices[0]])\n",
        "    i+=1\n",
        "\n",
        "print(pred)"
      ],
      "execution_count": 31,
      "outputs": [
        {
          "output_type": "stream",
          "text": [
            "0\n",
            "0\n",
            "0\n",
            "0\n",
            "0\n",
            "0\n",
            "0\n",
            "0\n",
            "0\n",
            "0\n",
            "0\n",
            "0\n",
            "0\n",
            "0\n",
            "0\n",
            "0\n",
            "0\n",
            "0\n",
            "0\n",
            "0\n",
            "0\n",
            "0\n",
            "0\n",
            "0\n",
            "0\n",
            "0\n",
            "0\n",
            "0\n",
            "0\n",
            "0\n",
            "0\n",
            "1\n",
            "0\n",
            "1\n",
            "1\n",
            "1\n",
            "1\n",
            "4\n",
            "0\n",
            "1\n",
            "1\n",
            "1\n",
            "3\n",
            "1\n",
            "1\n",
            "1\n",
            "1\n",
            "1\n",
            "0\n",
            "0\n",
            "1\n",
            "2\n",
            "2\n",
            "2\n",
            "2\n",
            "2\n",
            "2\n",
            "2\n",
            "2\n",
            "2\n",
            "2\n",
            "2\n",
            "2\n",
            "2\n",
            "2\n",
            "2\n",
            "2\n",
            "2\n",
            "2\n",
            "2\n",
            "2\n",
            "2\n",
            "2\n",
            "2\n",
            "2\n",
            "2\n",
            "2\n",
            "2\n",
            "2\n",
            "2\n",
            "2\n",
            "2\n",
            "2\n",
            "2\n",
            "2\n",
            "2\n",
            "3\n",
            "3\n",
            "3\n",
            "3\n",
            "3\n",
            "3\n",
            "3\n",
            "3\n",
            "3\n",
            "3\n",
            "3\n",
            "3\n",
            "3\n",
            "3\n",
            "3\n",
            "3\n",
            "3\n",
            "3\n",
            "3\n",
            "3\n",
            "4\n",
            "4\n",
            "4\n",
            "4\n",
            "4\n",
            "4\n",
            "4\n",
            "4\n",
            "4\n",
            "4\n",
            "4\n",
            "4\n",
            "4\n",
            "4\n",
            "4\n",
            "4\n",
            "4\n",
            "4\n",
            "4\n",
            "4\n",
            "[0, 0, 0, 0, 0, 0, 0, 0, 0, 0, 0, 0, 0, 0, 0, 0, 0, 0, 0, 0, 0, 0, 0, 0, 0, 0, 0, 0, 0, 0, 0, 1, 0, 1, 1, 1, 1, 4, 0, 1, 1, 1, 3, 1, 1, 1, 1, 1, 0, 0, 1, 2, 2, 2, 2, 2, 2, 2, 2, 2, 2, 2, 2, 2, 2, 2, 2, 2, 2, 2, 2, 2, 2, 2, 2, 2, 2, 2, 2, 2, 2, 2, 2, 2, 2, 2, 3, 3, 3, 3, 3, 3, 3, 3, 3, 3, 3, 3, 3, 3, 3, 3, 3, 3, 3, 3, 4, 4, 4, 4, 4, 4, 4, 4, 4, 4, 4, 4, 4, 4, 4, 4, 4, 4, 4, 4]\n"
          ],
          "name": "stdout"
        }
      ]
    },
    {
      "cell_type": "code",
      "metadata": {
        "id": "wLHl7ntzFGF8",
        "colab_type": "code",
        "colab": {}
      },
      "source": [
        "#write in file\n",
        "file = open('submit.csv', '+w')\n",
        "file.write('Id'+ ','+ 'Category' + '\\n')\n",
        "for i in range(len(pred)):\n",
        "    row = str(vid_paths[i]) + ',' + str(pred[i]) + '\\n'\n",
        "    file.write(row)\n",
        "file.close() \n"
      ],
      "execution_count": null,
      "outputs": []
    },
    {
      "cell_type": "markdown",
      "metadata": {
        "id": "YjqYnmEssJrg",
        "colab_type": "text"
      },
      "source": [
        "flow model(don't run)\n",
        "---"
      ]
    },
    {
      "cell_type": "code",
      "metadata": {
        "id": "7pMyQ6-m65D7",
        "colab_type": "code",
        "colab": {
          "base_uri": "https://localhost:8080/",
          "height": 110
        },
        "outputId": "0a56f8ad-93af-409a-93a4-093a415fb3b2"
      },
      "source": [
        "# build model for optical flow data\n",
        "# and load pretrained weights (trained on imagenet and kinetics dataset)\n",
        "flow_model = Inception_Inflated3d(\n",
        "                include_top=False,\n",
        "                weights='flow_imagenet_and_kinetics',\n",
        "                input_shape=(NUM_FRAMES, FRAME_HEIGHT, FRAME_WIDTH, NUM_FLOW_CHANNELS),\n",
        "                classes=NUM_CLASSES)"
      ],
      "execution_count": null,
      "outputs": [
        {
          "output_type": "stream",
          "text": [
            "/content/keras-kinetics-i3d/i3d_inception.py:101: UserWarning: This model usually expects 1 or 3 input channels. However, it was passed an input_shape with 2 input channels.\n",
            "  str(input_shape[-1]) + ' input channels.')\n"
          ],
          "name": "stderr"
        },
        {
          "output_type": "stream",
          "text": [
            "Downloading data from https://github.com/dlpbc/keras-kinetics-i3d/releases/download/v0.2/flow_inception_i3d_imagenet_and_kinetics_tf_dim_ordering_tf_kernels_no_top.h5\n",
            "49512448/49507528 [==============================] - 2s 0us/step\n"
          ],
          "name": "stdout"
        }
      ]
    },
    {
      "cell_type": "code",
      "metadata": {
        "id": "CDKLjneUsK5P",
        "colab_type": "code",
        "colab": {}
      },
      "source": [
        "x = flow_model.get_layer('global_avg_pool').output\n",
        "\n",
        "x = Dropout(0.0)(x)\n",
        "\n",
        "x = conv3d_bn(x, NUM_CLASSES, 1, 1, 1, padding='same', \n",
        "        use_bias=True, use_activation_fn=False, use_bn=False, name='Conv3d_6a_1x1')\n",
        " \n",
        "num_frames_remaining = int(x.shape[1])\n",
        "x = Reshape((num_frames_remaining, NUM_CLASSES))(x)\n",
        "\n",
        "# logits (raw scores for each class)\n",
        "x = Lambda(lambda x: K.mean(x, axis=1, keepdims=False),\n",
        "            output_shape=lambda s: (s[0], s[2]))(x)\n",
        "\n",
        "x = Activation('softmax', name='prediction')(x)\n",
        "\n",
        "F_flow_model = Model(flow_model.get_layer(index = 0).output, x, name='i3d_inception_flow')"
      ],
      "execution_count": null,
      "outputs": []
    },
    {
      "cell_type": "code",
      "metadata": {
        "id": "P2Hzru2PxtNX",
        "colab_type": "code",
        "colab": {
          "base_uri": "https://localhost:8080/",
          "height": 54
        },
        "outputId": "71771c12-f82a-4939-bc42-caf673132698"
      },
      "source": [
        "from random import shuffle\n",
        "shuffle(train_paths)\n",
        "train = train_paths[0:]\n",
        "val = train_paths[337:]\n",
        "print(len(train))\n",
        "print(len(val))\n",
        "\n",
        "global train_index\n",
        "train_index = 0\n",
        "global test_index\n",
        "test_index = 0\n",
        "\n",
        "def load_data(batch_size, paths, train_bool):\n",
        "    \n",
        "    index = 0\n",
        "    if train_bool:\n",
        "        global train_index\n",
        "        if train_index == len(paths):\n",
        "            train_index = 0\n",
        "        index = train_index\n",
        "    else:\n",
        "        global test_index\n",
        "        if test_index == len(paths):\n",
        "            test_index = 0\n",
        "        index = test_index\n",
        "\n",
        "    example = paths[index]\n",
        "    f = extract_flow(example[0], NUM_FRAMES)\n",
        "    \n",
        "    if train_bool:\n",
        "        train_index+=1\n",
        "    else:\n",
        "        test_index+=1\n",
        "    \n",
        "    return (f, [example[1]])\n",
        "\n",
        "def batch_generator(batch_size, steps, paths, train_bool):\n",
        "    \n",
        "    idx=1\n",
        "    while True: \n",
        "        yield load_data(batch_size, paths, train_bool)## Yields data\n",
        "        if idx<steps:\n",
        "            idx+=1\n",
        "        else:\n",
        "            idx=1\n",
        "train_batch_generator = batch_generator(1, 1, train, True)\n",
        "val_batch_generator = batch_generator(1, 1, val, False)"
      ],
      "execution_count": null,
      "outputs": [
        {
          "output_type": "stream",
          "text": [
            "472\n",
            "135\n"
          ],
          "name": "stdout"
        }
      ]
    },
    {
      "cell_type": "code",
      "metadata": {
        "id": "3Pagu0O20z8E",
        "colab_type": "code",
        "colab": {}
      },
      "source": [
        "#F_flow_model.load_weights(\"a_flow_model.h5\")"
      ],
      "execution_count": null,
      "outputs": []
    },
    {
      "cell_type": "code",
      "metadata": {
        "id": "l-lgJYUIuQj3",
        "colab_type": "code",
        "colab": {}
      },
      "source": [
        "F_flow_model.compile(optimizer=Adam(0.00001), loss='sparse_categorical_crossentropy', metrics=['accuracy'])"
      ],
      "execution_count": null,
      "outputs": []
    },
    {
      "cell_type": "code",
      "metadata": {
        "id": "AY8879DlvXbu",
        "colab_type": "code",
        "colab": {
          "base_uri": "https://localhost:8080/",
          "height": 795
        },
        "outputId": "5f51db2f-440e-4954-d18e-87608684792b"
      },
      "source": [
        "#F_flow_model.fit_generator(train_batch_generator, epochs=100, steps_per_epoch=377//1, verbose=1, validation_data=val_batch_generator, validation_steps=135//1) #train_length // batch_size\n",
        "#F_flow_model.fit_generator(train_batch_generator, epochs=100, steps_per_epoch=472//1, verbose=1) #train_length // batch_size"
      ],
      "execution_count": null,
      "outputs": [
        {
          "output_type": "stream",
          "text": [
            "Epoch 1/100\n",
            "472/472 [==============================] - 976s 2s/step - loss: 1.5933 - accuracy: 0.3199\n",
            "Epoch 2/100\n",
            "472/472 [==============================] - 953s 2s/step - loss: 1.4643 - accuracy: 0.5275\n",
            "Epoch 3/100\n",
            "472/472 [==============================] - 941s 2s/step - loss: 1.3473 - accuracy: 0.6843\n",
            "Epoch 4/100\n",
            "472/472 [==============================] - 945s 2s/step - loss: 1.2303 - accuracy: 0.8008\n",
            "Epoch 5/100\n",
            "472/472 [==============================] - 947s 2s/step - loss: 1.1132 - accuracy: 0.8729\n",
            "Epoch 6/100\n",
            "472/472 [==============================] - 942s 2s/step - loss: 0.9968 - accuracy: 0.9216\n",
            "Epoch 7/100\n",
            "472/472 [==============================] - 973s 2s/step - loss: 0.8830 - accuracy: 0.9492\n",
            "Epoch 8/100\n",
            "472/472 [==============================] - 1029s 2s/step - loss: 0.7737 - accuracy: 0.9725\n",
            "Epoch 9/100\n",
            "472/472 [==============================] - 1032s 2s/step - loss: 0.6704 - accuracy: 0.9873\n",
            "Epoch 10/100\n",
            "472/472 [==============================] - 1042s 2s/step - loss: 0.5747 - accuracy: 0.9958\n",
            "Epoch 11/100\n",
            "472/472 [==============================] - 1017s 2s/step - loss: 0.4880 - accuracy: 1.0000\n",
            "Epoch 12/100\n",
            "472/472 [==============================] - 1002s 2s/step - loss: 0.4110 - accuracy: 1.0000\n",
            "Epoch 13/100\n",
            "  3/472 [..............................] - ETA: 16:21 - loss: 0.2722 - accuracy: 1.0000"
          ],
          "name": "stdout"
        },
        {
          "output_type": "error",
          "ename": "KeyboardInterrupt",
          "evalue": "ignored",
          "traceback": [
            "\u001b[0;31m---------------------------------------------------------------------------\u001b[0m",
            "\u001b[0;31mKeyboardInterrupt\u001b[0m                         Traceback (most recent call last)",
            "\u001b[0;32m<ipython-input-19-655eda498eaf>\u001b[0m in \u001b[0;36m<module>\u001b[0;34m()\u001b[0m\n\u001b[0;32m----> 1\u001b[0;31m \u001b[0mF_flow_model\u001b[0m\u001b[0;34m.\u001b[0m\u001b[0mfit_generator\u001b[0m\u001b[0;34m(\u001b[0m\u001b[0mtrain_batch_generator\u001b[0m\u001b[0;34m,\u001b[0m \u001b[0mepochs\u001b[0m\u001b[0;34m=\u001b[0m\u001b[0;36m100\u001b[0m\u001b[0;34m,\u001b[0m \u001b[0msteps_per_epoch\u001b[0m\u001b[0;34m=\u001b[0m\u001b[0;36m472\u001b[0m\u001b[0;34m//\u001b[0m\u001b[0;36m1\u001b[0m\u001b[0;34m,\u001b[0m \u001b[0mverbose\u001b[0m\u001b[0;34m=\u001b[0m\u001b[0;36m1\u001b[0m\u001b[0;34m)\u001b[0m \u001b[0;31m#train_length // batch_size\u001b[0m\u001b[0;34m\u001b[0m\u001b[0;34m\u001b[0m\u001b[0m\n\u001b[0m",
            "\u001b[0;32m/usr/local/lib/python3.6/dist-packages/keras/legacy/interfaces.py\u001b[0m in \u001b[0;36mwrapper\u001b[0;34m(*args, **kwargs)\u001b[0m\n\u001b[1;32m     89\u001b[0m                 warnings.warn('Update your `' + object_name + '` call to the ' +\n\u001b[1;32m     90\u001b[0m                               'Keras 2 API: ' + signature, stacklevel=2)\n\u001b[0;32m---> 91\u001b[0;31m             \u001b[0;32mreturn\u001b[0m \u001b[0mfunc\u001b[0m\u001b[0;34m(\u001b[0m\u001b[0;34m*\u001b[0m\u001b[0margs\u001b[0m\u001b[0;34m,\u001b[0m \u001b[0;34m**\u001b[0m\u001b[0mkwargs\u001b[0m\u001b[0;34m)\u001b[0m\u001b[0;34m\u001b[0m\u001b[0;34m\u001b[0m\u001b[0m\n\u001b[0m\u001b[1;32m     92\u001b[0m         \u001b[0mwrapper\u001b[0m\u001b[0;34m.\u001b[0m\u001b[0m_original_function\u001b[0m \u001b[0;34m=\u001b[0m \u001b[0mfunc\u001b[0m\u001b[0;34m\u001b[0m\u001b[0;34m\u001b[0m\u001b[0m\n\u001b[1;32m     93\u001b[0m         \u001b[0;32mreturn\u001b[0m \u001b[0mwrapper\u001b[0m\u001b[0;34m\u001b[0m\u001b[0;34m\u001b[0m\u001b[0m\n",
            "\u001b[0;32m/usr/local/lib/python3.6/dist-packages/keras/engine/training.py\u001b[0m in \u001b[0;36mfit_generator\u001b[0;34m(self, generator, steps_per_epoch, epochs, verbose, callbacks, validation_data, validation_steps, validation_freq, class_weight, max_queue_size, workers, use_multiprocessing, shuffle, initial_epoch)\u001b[0m\n\u001b[1;32m   1730\u001b[0m             \u001b[0muse_multiprocessing\u001b[0m\u001b[0;34m=\u001b[0m\u001b[0muse_multiprocessing\u001b[0m\u001b[0;34m,\u001b[0m\u001b[0;34m\u001b[0m\u001b[0;34m\u001b[0m\u001b[0m\n\u001b[1;32m   1731\u001b[0m             \u001b[0mshuffle\u001b[0m\u001b[0;34m=\u001b[0m\u001b[0mshuffle\u001b[0m\u001b[0;34m,\u001b[0m\u001b[0;34m\u001b[0m\u001b[0;34m\u001b[0m\u001b[0m\n\u001b[0;32m-> 1732\u001b[0;31m             initial_epoch=initial_epoch)\n\u001b[0m\u001b[1;32m   1733\u001b[0m \u001b[0;34m\u001b[0m\u001b[0m\n\u001b[1;32m   1734\u001b[0m     \u001b[0;34m@\u001b[0m\u001b[0minterfaces\u001b[0m\u001b[0;34m.\u001b[0m\u001b[0mlegacy_generator_methods_support\u001b[0m\u001b[0;34m\u001b[0m\u001b[0;34m\u001b[0m\u001b[0m\n",
            "\u001b[0;32m/usr/local/lib/python3.6/dist-packages/keras/engine/training_generator.py\u001b[0m in \u001b[0;36mfit_generator\u001b[0;34m(model, generator, steps_per_epoch, epochs, verbose, callbacks, validation_data, validation_steps, validation_freq, class_weight, max_queue_size, workers, use_multiprocessing, shuffle, initial_epoch)\u001b[0m\n\u001b[1;32m    183\u001b[0m             \u001b[0mbatch_index\u001b[0m \u001b[0;34m=\u001b[0m \u001b[0;36m0\u001b[0m\u001b[0;34m\u001b[0m\u001b[0;34m\u001b[0m\u001b[0m\n\u001b[1;32m    184\u001b[0m             \u001b[0;32mwhile\u001b[0m \u001b[0msteps_done\u001b[0m \u001b[0;34m<\u001b[0m \u001b[0msteps_per_epoch\u001b[0m\u001b[0;34m:\u001b[0m\u001b[0;34m\u001b[0m\u001b[0;34m\u001b[0m\u001b[0m\n\u001b[0;32m--> 185\u001b[0;31m                 \u001b[0mgenerator_output\u001b[0m \u001b[0;34m=\u001b[0m \u001b[0mnext\u001b[0m\u001b[0;34m(\u001b[0m\u001b[0moutput_generator\u001b[0m\u001b[0;34m)\u001b[0m\u001b[0;34m\u001b[0m\u001b[0;34m\u001b[0m\u001b[0m\n\u001b[0m\u001b[1;32m    186\u001b[0m \u001b[0;34m\u001b[0m\u001b[0m\n\u001b[1;32m    187\u001b[0m                 \u001b[0;32mif\u001b[0m \u001b[0;32mnot\u001b[0m \u001b[0mhasattr\u001b[0m\u001b[0;34m(\u001b[0m\u001b[0mgenerator_output\u001b[0m\u001b[0;34m,\u001b[0m \u001b[0;34m'__len__'\u001b[0m\u001b[0;34m)\u001b[0m\u001b[0;34m:\u001b[0m\u001b[0;34m\u001b[0m\u001b[0;34m\u001b[0m\u001b[0m\n",
            "\u001b[0;32m/usr/local/lib/python3.6/dist-packages/keras/utils/data_utils.py\u001b[0m in \u001b[0;36mget\u001b[0;34m(self)\u001b[0m\n\u001b[1;32m    709\u001b[0m                 \u001b[0;32mtry\u001b[0m\u001b[0;34m:\u001b[0m\u001b[0;34m\u001b[0m\u001b[0;34m\u001b[0m\u001b[0m\n\u001b[1;32m    710\u001b[0m                     \u001b[0mfuture\u001b[0m \u001b[0;34m=\u001b[0m \u001b[0mself\u001b[0m\u001b[0;34m.\u001b[0m\u001b[0mqueue\u001b[0m\u001b[0;34m.\u001b[0m\u001b[0mget\u001b[0m\u001b[0;34m(\u001b[0m\u001b[0mblock\u001b[0m\u001b[0;34m=\u001b[0m\u001b[0;32mTrue\u001b[0m\u001b[0;34m)\u001b[0m\u001b[0;34m\u001b[0m\u001b[0;34m\u001b[0m\u001b[0m\n\u001b[0;32m--> 711\u001b[0;31m                     \u001b[0minputs\u001b[0m \u001b[0;34m=\u001b[0m \u001b[0mfuture\u001b[0m\u001b[0;34m.\u001b[0m\u001b[0mget\u001b[0m\u001b[0;34m(\u001b[0m\u001b[0mtimeout\u001b[0m\u001b[0;34m=\u001b[0m\u001b[0;36m30\u001b[0m\u001b[0;34m)\u001b[0m\u001b[0;34m\u001b[0m\u001b[0;34m\u001b[0m\u001b[0m\n\u001b[0m\u001b[1;32m    712\u001b[0m                     \u001b[0mself\u001b[0m\u001b[0;34m.\u001b[0m\u001b[0mqueue\u001b[0m\u001b[0;34m.\u001b[0m\u001b[0mtask_done\u001b[0m\u001b[0;34m(\u001b[0m\u001b[0;34m)\u001b[0m\u001b[0;34m\u001b[0m\u001b[0;34m\u001b[0m\u001b[0m\n\u001b[1;32m    713\u001b[0m                 \u001b[0;32mexcept\u001b[0m \u001b[0mmp\u001b[0m\u001b[0;34m.\u001b[0m\u001b[0mTimeoutError\u001b[0m\u001b[0;34m:\u001b[0m\u001b[0;34m\u001b[0m\u001b[0;34m\u001b[0m\u001b[0m\n",
            "\u001b[0;32m/usr/lib/python3.6/multiprocessing/pool.py\u001b[0m in \u001b[0;36mget\u001b[0;34m(self, timeout)\u001b[0m\n\u001b[1;32m    636\u001b[0m \u001b[0;34m\u001b[0m\u001b[0m\n\u001b[1;32m    637\u001b[0m     \u001b[0;32mdef\u001b[0m \u001b[0mget\u001b[0m\u001b[0;34m(\u001b[0m\u001b[0mself\u001b[0m\u001b[0;34m,\u001b[0m \u001b[0mtimeout\u001b[0m\u001b[0;34m=\u001b[0m\u001b[0;32mNone\u001b[0m\u001b[0;34m)\u001b[0m\u001b[0;34m:\u001b[0m\u001b[0;34m\u001b[0m\u001b[0;34m\u001b[0m\u001b[0m\n\u001b[0;32m--> 638\u001b[0;31m         \u001b[0mself\u001b[0m\u001b[0;34m.\u001b[0m\u001b[0mwait\u001b[0m\u001b[0;34m(\u001b[0m\u001b[0mtimeout\u001b[0m\u001b[0;34m)\u001b[0m\u001b[0;34m\u001b[0m\u001b[0;34m\u001b[0m\u001b[0m\n\u001b[0m\u001b[1;32m    639\u001b[0m         \u001b[0;32mif\u001b[0m \u001b[0;32mnot\u001b[0m \u001b[0mself\u001b[0m\u001b[0;34m.\u001b[0m\u001b[0mready\u001b[0m\u001b[0;34m(\u001b[0m\u001b[0;34m)\u001b[0m\u001b[0;34m:\u001b[0m\u001b[0;34m\u001b[0m\u001b[0;34m\u001b[0m\u001b[0m\n\u001b[1;32m    640\u001b[0m             \u001b[0;32mraise\u001b[0m \u001b[0mTimeoutError\u001b[0m\u001b[0;34m\u001b[0m\u001b[0;34m\u001b[0m\u001b[0m\n",
            "\u001b[0;32m/usr/lib/python3.6/multiprocessing/pool.py\u001b[0m in \u001b[0;36mwait\u001b[0;34m(self, timeout)\u001b[0m\n\u001b[1;32m    633\u001b[0m \u001b[0;34m\u001b[0m\u001b[0m\n\u001b[1;32m    634\u001b[0m     \u001b[0;32mdef\u001b[0m \u001b[0mwait\u001b[0m\u001b[0;34m(\u001b[0m\u001b[0mself\u001b[0m\u001b[0;34m,\u001b[0m \u001b[0mtimeout\u001b[0m\u001b[0;34m=\u001b[0m\u001b[0;32mNone\u001b[0m\u001b[0;34m)\u001b[0m\u001b[0;34m:\u001b[0m\u001b[0;34m\u001b[0m\u001b[0;34m\u001b[0m\u001b[0m\n\u001b[0;32m--> 635\u001b[0;31m         \u001b[0mself\u001b[0m\u001b[0;34m.\u001b[0m\u001b[0m_event\u001b[0m\u001b[0;34m.\u001b[0m\u001b[0mwait\u001b[0m\u001b[0;34m(\u001b[0m\u001b[0mtimeout\u001b[0m\u001b[0;34m)\u001b[0m\u001b[0;34m\u001b[0m\u001b[0;34m\u001b[0m\u001b[0m\n\u001b[0m\u001b[1;32m    636\u001b[0m \u001b[0;34m\u001b[0m\u001b[0m\n\u001b[1;32m    637\u001b[0m     \u001b[0;32mdef\u001b[0m \u001b[0mget\u001b[0m\u001b[0;34m(\u001b[0m\u001b[0mself\u001b[0m\u001b[0;34m,\u001b[0m \u001b[0mtimeout\u001b[0m\u001b[0;34m=\u001b[0m\u001b[0;32mNone\u001b[0m\u001b[0;34m)\u001b[0m\u001b[0;34m:\u001b[0m\u001b[0;34m\u001b[0m\u001b[0;34m\u001b[0m\u001b[0m\n",
            "\u001b[0;32m/usr/lib/python3.6/threading.py\u001b[0m in \u001b[0;36mwait\u001b[0;34m(self, timeout)\u001b[0m\n\u001b[1;32m    549\u001b[0m             \u001b[0msignaled\u001b[0m \u001b[0;34m=\u001b[0m \u001b[0mself\u001b[0m\u001b[0;34m.\u001b[0m\u001b[0m_flag\u001b[0m\u001b[0;34m\u001b[0m\u001b[0;34m\u001b[0m\u001b[0m\n\u001b[1;32m    550\u001b[0m             \u001b[0;32mif\u001b[0m \u001b[0;32mnot\u001b[0m \u001b[0msignaled\u001b[0m\u001b[0;34m:\u001b[0m\u001b[0;34m\u001b[0m\u001b[0;34m\u001b[0m\u001b[0m\n\u001b[0;32m--> 551\u001b[0;31m                 \u001b[0msignaled\u001b[0m \u001b[0;34m=\u001b[0m \u001b[0mself\u001b[0m\u001b[0;34m.\u001b[0m\u001b[0m_cond\u001b[0m\u001b[0;34m.\u001b[0m\u001b[0mwait\u001b[0m\u001b[0;34m(\u001b[0m\u001b[0mtimeout\u001b[0m\u001b[0;34m)\u001b[0m\u001b[0;34m\u001b[0m\u001b[0;34m\u001b[0m\u001b[0m\n\u001b[0m\u001b[1;32m    552\u001b[0m             \u001b[0;32mreturn\u001b[0m \u001b[0msignaled\u001b[0m\u001b[0;34m\u001b[0m\u001b[0;34m\u001b[0m\u001b[0m\n\u001b[1;32m    553\u001b[0m \u001b[0;34m\u001b[0m\u001b[0m\n",
            "\u001b[0;32m/usr/lib/python3.6/threading.py\u001b[0m in \u001b[0;36mwait\u001b[0;34m(self, timeout)\u001b[0m\n\u001b[1;32m    297\u001b[0m             \u001b[0;32melse\u001b[0m\u001b[0;34m:\u001b[0m\u001b[0;34m\u001b[0m\u001b[0;34m\u001b[0m\u001b[0m\n\u001b[1;32m    298\u001b[0m                 \u001b[0;32mif\u001b[0m \u001b[0mtimeout\u001b[0m \u001b[0;34m>\u001b[0m \u001b[0;36m0\u001b[0m\u001b[0;34m:\u001b[0m\u001b[0;34m\u001b[0m\u001b[0;34m\u001b[0m\u001b[0m\n\u001b[0;32m--> 299\u001b[0;31m                     \u001b[0mgotit\u001b[0m \u001b[0;34m=\u001b[0m \u001b[0mwaiter\u001b[0m\u001b[0;34m.\u001b[0m\u001b[0macquire\u001b[0m\u001b[0;34m(\u001b[0m\u001b[0;32mTrue\u001b[0m\u001b[0;34m,\u001b[0m \u001b[0mtimeout\u001b[0m\u001b[0;34m)\u001b[0m\u001b[0;34m\u001b[0m\u001b[0;34m\u001b[0m\u001b[0m\n\u001b[0m\u001b[1;32m    300\u001b[0m                 \u001b[0;32melse\u001b[0m\u001b[0;34m:\u001b[0m\u001b[0;34m\u001b[0m\u001b[0;34m\u001b[0m\u001b[0m\n\u001b[1;32m    301\u001b[0m                     \u001b[0mgotit\u001b[0m \u001b[0;34m=\u001b[0m \u001b[0mwaiter\u001b[0m\u001b[0;34m.\u001b[0m\u001b[0macquire\u001b[0m\u001b[0;34m(\u001b[0m\u001b[0;32mFalse\u001b[0m\u001b[0;34m)\u001b[0m\u001b[0;34m\u001b[0m\u001b[0;34m\u001b[0m\u001b[0m\n",
            "\u001b[0;31mKeyboardInterrupt\u001b[0m: "
          ]
        }
      ]
    },
    {
      "cell_type": "code",
      "metadata": {
        "id": "g51D6IvEvl9Q",
        "colab_type": "code",
        "colab": {}
      },
      "source": [
        "#F_flow_model.save_weights(\"a_flow_model.h5\")\n",
        "#!cp 'a_flow_model.h5' '/content/drive/My Drive/cv/'"
      ],
      "execution_count": null,
      "outputs": []
    },
    {
      "cell_type": "markdown",
      "metadata": {
        "id": "MZ0m4L9HZRjn",
        "colab_type": "text"
      },
      "source": [
        "test on flow"
      ]
    },
    {
      "cell_type": "code",
      "metadata": {
        "id": "RZF-IKLwDB06",
        "colab_type": "code",
        "colab": {
          "base_uri": "https://localhost:8080/",
          "height": 55
        },
        "outputId": "358fda93-a7d1-41ba-f450-8bd0727f9a4b"
      },
      "source": [
        "#sort test vids\n",
        "vid_paths = [\"\" for x in range(126)]\n",
        "\n",
        "i = 0\n",
        "for video in os.listdir(test_path):\n",
        "    start = video.find('(')\n",
        "    end = video.find(')')\n",
        "\n",
        "    num = video[start+1:end]\n",
        "    num = int(num)\n",
        "    vid_paths[num-1] = video\n",
        "    i+=1\n",
        "\n",
        "print(vid_paths)"
      ],
      "execution_count": null,
      "outputs": [
        {
          "output_type": "stream",
          "text": [
            "['test_image (1).mpg', 'test_image (2).mpg', 'test_image (3).mpg', 'test_image (4).mpg', 'test_image (5).mpg', 'test_image (6).mpg', 'test_image (7).mpg', 'test_image (8).mpg', 'test_image (9).mpg', 'test_image (10).mpg', 'test_image (11).mpg', 'test_image (12).mpg', 'test_image (13).mpg', 'test_image (14).mpg', 'test_image (15).mpg', 'test_image (16).mpg', 'test_image (17).mpg', 'test_image (18).mpg', 'test_image (19).mpg', 'test_image (20).mpg', 'test_image (21).mpg', 'test_image (22).mpg', 'test_image (23).mpg', 'test_image (24).mpg', 'test_image (25).mpg', 'test_image (26).mpg', 'test_image (27).mpg', 'test_image (28).mpg', 'test_image (29).mpg', 'test_image (30).mpg', 'test_image (31).mpg', 'test_image (32).mpg', 'test_image (33).mpg', 'test_image (34).mpg', 'test_image (35).mpg', 'test_image (36).mpg', 'test_image (37).mpg', 'test_image (38).mpg', 'test_image (39).mpg', 'test_image (40).mpg', 'test_image (41).mpg', 'test_image (42).mpg', 'test_image (43).mpg', 'test_image (44).mpg', 'test_image (45).mpg', 'test_image (46).mpg', 'test_image (47).mpg', 'test_image (48).mpg', 'test_image (49).mpg', 'test_image (50).mpg', 'test_image (51).mpg', 'test_image (52).mpg', 'test_image (53).mpg', 'test_image (54).mpg', 'test_image (55).mpg', 'test_image (56).mpg', 'test_image (57).mpg', 'test_image (58).mpg', 'test_image (59).mpg', 'test_image (60).mpg', 'test_image (61).mpg', 'test_image (62).mpg', 'test_image (63).mpg', 'test_image (64).mpg', 'test_image (65).mpg', 'test_image (66).mpg', 'test_image (67).mpg', 'test_image (68).mpg', 'test_image (69).mpg', 'test_image (70).mpg', 'test_image (71).mpg', 'test_image (72).mpg', 'test_image (73).mpg', 'test_image (74).mpg', 'test_image (75).mpg', 'test_image (76).mpg', 'test_image (77).mpg', 'test_image (78).mpg', 'test_image (79).mpg', 'test_image (80).mpg', 'test_image (81).mpg', 'test_image (82).mpg', 'test_image (83).mpg', 'test_image (84).mpg', 'test_image (85).mpg', 'test_image (86).mpg', 'test_image (87).mpg', 'test_image (88).mpg', 'test_image (89).mpg', 'test_image (90).mpg', 'test_image (91).mpg', 'test_image (92).mpg', 'test_image (93).mpg', 'test_image (94).mpg', 'test_image (95).mpg', 'test_image (96).mpg', 'test_image (97).mpg', 'test_image (98).mpg', 'test_image (99).mpg', 'test_image (100).mpg', 'test_image (101).mpg', 'test_image (102).mpg', 'test_image (103).mpg', 'test_image (104).mpg', 'test_image (105).mpg', 'test_image (106).mpg', 'test_image (107).mpg', 'test_image (108).mpg', 'test_image (109).mpg', 'test_image (110).mpg', 'test_image (111).mpg', 'test_image (112).mpg', 'test_image (113).mpg', 'test_image (114).mpg', 'test_image (115).mpg', 'test_image (116).mpg', 'test_image (117).mpg', 'test_image (118).mpg', 'test_image (119).mpg', 'test_image (120).mpg', 'test_image (121).mpg', 'test_image (122).mpg', 'test_image (123).mpg', 'test_image (124).mpg', 'test_image (125).mpg', 'test_image (126).mpg']\n"
          ],
          "name": "stdout"
        }
      ]
    },
    {
      "cell_type": "code",
      "metadata": {
        "colab_type": "code",
        "id": "uRusTRsSrFTV",
        "colab": {}
      },
      "source": [
        "\n",
        "i = 0\n",
        "acc = 0\n",
        "pred = []\n",
        "for video in vid_paths:\n",
        "    flow = extract_flow(test_path+video, NUM_FRAMES)\n",
        "    flow_logits = F_flow_model.predict(flow)\n",
        "    flow_logits = flow_logits[0]\n",
        "\n",
        "    sample_predictions = np.exp(flow_logits) / np.sum(np.exp(flow_logits))\n",
        "\n",
        "    sorted_indices = np.argsort(sample_predictions)[::-1]\n",
        "\n",
        "    pred.append(sorted_indices[0])\n",
        "    i+=1\n",
        "\n",
        "\n",
        "print(pred)"
      ],
      "execution_count": null,
      "outputs": []
    },
    {
      "cell_type": "code",
      "metadata": {
        "colab_type": "code",
        "id": "2t4tHR74rFTe",
        "colab": {}
      },
      "source": [
        "#write in file\n",
        "file = open('submit_flow.csv', '+w')\n",
        "file.write('Id'+ ','+ 'Category' + '\\n')\n",
        "for i in range(len(pred)):\n",
        "    row = str(vid_paths[i]) + ',' + str(pred[i]) + '\\n'\n",
        "    file.write(row)\n",
        "file.close() \n"
      ],
      "execution_count": null,
      "outputs": []
    },
    {
      "cell_type": "markdown",
      "metadata": {
        "id": "Jj5I1oO60b4c",
        "colab_type": "text"
      },
      "source": [
        "testing on both together(don't run)\n",
        "---"
      ]
    },
    {
      "cell_type": "code",
      "metadata": {
        "id": "tGBnxGdd0dQ-",
        "colab_type": "code",
        "colab": {}
      },
      "source": [
        "NUM_CLASSES = 5\n",
        "FRAME_HEIGHT = FRAME_WIDTH = 224\n",
        "NUM_RGB_CHANNELS = 3\n",
        "NUM_FLOW_CHANNELS = 2\n",
        "NUM_FRAMES = 125"
      ],
      "execution_count": null,
      "outputs": []
    },
    {
      "cell_type": "code",
      "metadata": {
        "id": "id0Grp3hmLdl",
        "colab_type": "code",
        "colab": {
          "base_uri": "https://localhost:8080/",
          "height": 74
        },
        "outputId": "7d0a9c7a-203b-4ee7-e762-338dae200412"
      },
      "source": [
        "#define models\n",
        "# build model for rgb data\n",
        "# and load pretrained weights (trained on imagenet and kinetics dataset)\n",
        "t_rgb_model = Inception_Inflated3d(\n",
        "                include_top=False,\n",
        "                weights=None,\n",
        "                input_shape=(NUM_FRAMES, FRAME_HEIGHT, FRAME_WIDTH, NUM_RGB_CHANNELS),\n",
        "                classes=NUM_CLASSES)\n",
        " \n",
        "# build model for optical flow data\n",
        "# and load pretrained weights (trained on imagenet and kinetics dataset)\n",
        "t_flow_model = Inception_Inflated3d(\n",
        "                include_top=False,\n",
        "                weights=None,\n",
        "                input_shape=(NUM_FRAMES, FRAME_HEIGHT, FRAME_WIDTH, NUM_FLOW_CHANNELS),\n",
        "                classes=NUM_CLASSES)"
      ],
      "execution_count": null,
      "outputs": [
        {
          "output_type": "stream",
          "text": [
            "/content/keras-kinetics-i3d/i3d_inception.py:101: UserWarning: This model usually expects 1 or 3 input channels. However, it was passed an input_shape with 2 input channels.\n",
            "  str(input_shape[-1]) + ' input channels.')\n"
          ],
          "name": "stderr"
        }
      ]
    },
    {
      "cell_type": "code",
      "metadata": {
        "id": "YpGPtsKv9uZj",
        "colab_type": "code",
        "colab": {}
      },
      "source": [
        "x = t_rgb_model.get_layer('global_avg_pool').output\n",
        "\n",
        "x = Dropout(0.0)(x)\n",
        "\n",
        "x = conv3d_bn(x, NUM_CLASSES, 1, 1, 1, padding='same', \n",
        "        use_bias=True, use_activation_fn=False, use_bn=False, name='Conv3d_6a_1x1')\n",
        " \n",
        "num_frames_remaining = int(x.shape[1])\n",
        "x = Reshape((num_frames_remaining, NUM_CLASSES))(x)\n",
        "\n",
        "# logits (raw scores for each class)\n",
        "x = Lambda(lambda x: K.mean(x, axis=1, keepdims=False),\n",
        "            output_shape=lambda s: (s[0], s[2]))(x)\n",
        "\n",
        "x = Activation('softmax', name='prediction')(x)\n",
        "\n",
        "F_t_rgb_model = Model(t_rgb_model.get_layer(index = 0).output, x, name='i3d_inception_rgb_test')\n",
        "\n",
        "########################################\n",
        "\n",
        "x = t_flow_model.get_layer('global_avg_pool').output\n",
        "\n",
        "x = Dropout(0.0)(x)\n",
        "\n",
        "x = conv3d_bn(x, NUM_CLASSES, 1, 1, 1, padding='same', \n",
        "        use_bias=True, use_activation_fn=False, use_bn=False, name='Conv3d_6a_1x1')\n",
        " \n",
        "num_frames_remaining = int(x.shape[1])\n",
        "x = Reshape((num_frames_remaining, NUM_CLASSES))(x)\n",
        "\n",
        "# logits (raw scores for each class)\n",
        "x = Lambda(lambda x: K.mean(x, axis=1, keepdims=False),\n",
        "            output_shape=lambda s: (s[0], s[2]))(x)\n",
        "\n",
        "x = Activation('softmax', name='prediction')(x)\n",
        "\n",
        "F_t_flow_model = Model(t_flow_model.get_layer(index = 0).output, x, name='i3d_inception_flow_test')"
      ],
      "execution_count": null,
      "outputs": []
    },
    {
      "cell_type": "code",
      "metadata": {
        "id": "YEtR-3QA-PP1",
        "colab_type": "code",
        "colab": {}
      },
      "source": [
        "F_t_rgb_model.load_weights('/content/drive/My Drive/cv/90_rgb_model.h5')\n",
        "F_t_flow_model.load_weights('/content/drive/My Drive/cv/90_flow_model.h5')"
      ],
      "execution_count": null,
      "outputs": []
    },
    {
      "cell_type": "code",
      "metadata": {
        "id": "srkhYRjmuFD-",
        "colab_type": "code",
        "colab": {
          "base_uri": "https://localhost:8080/",
          "height": 92
        },
        "outputId": "740750a0-0a46-4289-c327-6e101fe06cf5"
      },
      "source": [
        "#sort test vids\n",
        "vid_paths = [\"\" for x in range(126)]\n",
        "\n",
        "i = 0\n",
        "for video in os.listdir(test_path):\n",
        "    start = video.find('(')\n",
        "    end = video.find(')')\n",
        "\n",
        "    num = video[start+1:end]\n",
        "    num = int(num)\n",
        "    vid_paths[num-1] = video\n",
        "    i+=1\n",
        "\n",
        "print(vid_paths)\n"
      ],
      "execution_count": null,
      "outputs": [
        {
          "output_type": "stream",
          "text": [
            "['test_image (1).mpg', 'test_image (2).mpg', 'test_image (3).mpg', 'test_image (4).mpg', 'test_image (5).mpg', 'test_image (6).mpg', 'test_image (7).mpg', 'test_image (8).mpg', 'test_image (9).mpg', 'test_image (10).mpg', 'test_image (11).mpg', 'test_image (12).mpg', 'test_image (13).mpg', 'test_image (14).mpg', 'test_image (15).mpg', 'test_image (16).mpg', 'test_image (17).mpg', 'test_image (18).mpg', 'test_image (19).mpg', 'test_image (20).mpg', 'test_image (21).mpg', 'test_image (22).mpg', 'test_image (23).mpg', 'test_image (24).mpg', 'test_image (25).mpg', 'test_image (26).mpg', 'test_image (27).mpg', 'test_image (28).mpg', 'test_image (29).mpg', 'test_image (30).mpg', 'test_image (31).mpg', 'test_image (32).mpg', 'test_image (33).mpg', 'test_image (34).mpg', 'test_image (35).mpg', 'test_image (36).mpg', 'test_image (37).mpg', 'test_image (38).mpg', 'test_image (39).mpg', 'test_image (40).mpg', 'test_image (41).mpg', 'test_image (42).mpg', 'test_image (43).mpg', 'test_image (44).mpg', 'test_image (45).mpg', 'test_image (46).mpg', 'test_image (47).mpg', 'test_image (48).mpg', 'test_image (49).mpg', 'test_image (50).mpg', 'test_image (51).mpg', 'test_image (52).mpg', 'test_image (53).mpg', 'test_image (54).mpg', 'test_image (55).mpg', 'test_image (56).mpg', 'test_image (57).mpg', 'test_image (58).mpg', 'test_image (59).mpg', 'test_image (60).mpg', 'test_image (61).mpg', 'test_image (62).mpg', 'test_image (63).mpg', 'test_image (64).mpg', 'test_image (65).mpg', 'test_image (66).mpg', 'test_image (67).mpg', 'test_image (68).mpg', 'test_image (69).mpg', 'test_image (70).mpg', 'test_image (71).mpg', 'test_image (72).mpg', 'test_image (73).mpg', 'test_image (74).mpg', 'test_image (75).mpg', 'test_image (76).mpg', 'test_image (77).mpg', 'test_image (78).mpg', 'test_image (79).mpg', 'test_image (80).mpg', 'test_image (81).mpg', 'test_image (82).mpg', 'test_image (83).mpg', 'test_image (84).mpg', 'test_image (85).mpg', 'test_image (86).mpg', 'test_image (87).mpg', 'test_image (88).mpg', 'test_image (89).mpg', 'test_image (90).mpg', 'test_image (91).mpg', 'test_image (92).mpg', 'test_image (93).mpg', 'test_image (94).mpg', 'test_image (95).mpg', 'test_image (96).mpg', 'test_image (97).mpg', 'test_image (98).mpg', 'test_image (99).mpg', 'test_image (100).mpg', 'test_image (101).mpg', 'test_image (102).mpg', 'test_image (103).mpg', 'test_image (104).mpg', 'test_image (105).mpg', 'test_image (106).mpg', 'test_image (107).mpg', 'test_image (108).mpg', 'test_image (109).mpg', 'test_image (110).mpg', 'test_image (111).mpg', 'test_image (112).mpg', 'test_image (113).mpg', 'test_image (114).mpg', 'test_image (115).mpg', 'test_image (116).mpg', 'test_image (117).mpg', 'test_image (118).mpg', 'test_image (119).mpg', 'test_image (120).mpg', 'test_image (121).mpg', 'test_image (122).mpg', 'test_image (123).mpg', 'test_image (124).mpg', 'test_image (125).mpg', 'test_image (126).mpg']\n",
            "126\n",
            "[0, 0, 0, 0, 0, 0, 0, 0, 0, 0, 0, 0, 0, 0, 0, 0, 0, 0, 0, 0, 0, 0, 0, 0, 0, 0, 0, 0, 0, 0, 0, 1, 1, 1, 1, 1, 1, 1, 1, 1, 1, 1, 1, 1, 1, 1, 1, 1, 1, 1, 1, 2, 2, 2, 2, 2, 2, 2, 2, 2, 2, 2, 2, 2, 2, 2, 2, 2, 2, 2, 2, 2, 2, 2, 2, 2, 2, 2, 2, 2, 2, 2, 2, 2, 2, 2, 2, 3, 3, 3, 3, 3, 3, 3, 3, 3, 3, 3, 3, 3, 3, 3, 3, 3, 3, 3, 4, 4, 4, 4, 4, 4, 4, 4, 4, 4, 4, 4, 4, 4, 4, 4, 4, 4, 4, 4]\n"
          ],
          "name": "stdout"
        }
      ]
    },
    {
      "cell_type": "code",
      "metadata": {
        "id": "r70xYspG-tgZ",
        "colab_type": "code",
        "colab": {}
      },
      "source": [
        "i = 0\n",
        "\n",
        "pred = []\n",
        "for video in vid_paths:\n",
        "    print(video)\n",
        "    \n",
        "    rgb = extract_rgb(test_path+video, NUM_FRAMES)\n",
        "    flow = extract_flow(test_path+video, NUM_FRAMES)\n",
        "    \n",
        "    rgb_logits = F_t_rgb_model.predict(rgb)\n",
        "    flow_logits = F_t_flow_model.predict(flow)\n",
        "    sample_logits = rgb_logits + flow_logits\n",
        "\n",
        "    sample_logits = sample_logits[0] # we are dealing with just one example\n",
        "    sample_predictions = np.exp(sample_logits) / np.sum(np.exp(sample_logits))\n",
        "\n",
        "    sorted_indices = np.argsort(sample_predictions)[::-1]\n",
        "    pred.append(sorted_indices[0])\n",
        "\n",
        "\n",
        "    i+=1\n"
      ],
      "execution_count": null,
      "outputs": []
    },
    {
      "cell_type": "code",
      "metadata": {
        "id": "GkdvZZdJArdc",
        "colab_type": "code",
        "colab": {}
      },
      "source": [
        "#write in file\n",
        "file = open('submit_both.csv', '+w')\n",
        "\n",
        "file.write('Id'+ ','+ 'Category' + '\\n')\n",
        "for i in range(len(pred)):\n",
        "    row = str(vid_paths[i]) + ',' + str(pred[i]) + '\\n'\n",
        "    file.write(row)\n",
        "    \n",
        "file.close() "
      ],
      "execution_count": null,
      "outputs": []
    },
    {
      "cell_type": "code",
      "metadata": {
        "id": "NMoy_uv0Czo2",
        "colab_type": "code",
        "colab": {}
      },
      "source": [
        ""
      ],
      "execution_count": null,
      "outputs": []
    }
  ]
}